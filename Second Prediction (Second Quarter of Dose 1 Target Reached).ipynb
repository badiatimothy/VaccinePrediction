{
  "nbformat": 4,
  "nbformat_minor": 0,
  "metadata": {
    "colab": {
      "name": "Vaccine.ipynb",
      "provenance": [],
      "collapsed_sections": []
    },
    "kernelspec": {
      "display_name": "Python 3",
      "name": "python3"
    },
    "language_info": {
      "name": "python"
    }
  },
  "cells": [
    {
      "cell_type": "markdown",
      "metadata": {
        "id": "0Kcc0FK-3jJS"
      },
      "source": [
        "#**Prediction of Completed Vaccination in Indonesia By Using Linear Regression and Polynomial Regression - After 50% of Target Reached**#"
      ]
    },
    {
      "cell_type": "markdown",
      "metadata": {
        "id": "tGN_8Gy13fb2"
      },
      "source": [
        "#INTRODUCTION#"
      ]
    },
    {
      "cell_type": "markdown",
      "metadata": {
        "id": "ZY561ZeFVo01"
      },
      "source": [
        "This is a simple machine learning project in order to predict when the COVID-19 vaccination will be completed as it reaches the target amount. As we know that we can see from https://vaksin.kemkes.go.id/#/vaccines that contains real-time vaccination information in Indonesia, and attached 208,265,720 as the target amount. Indonesian's population in 2019 was about 270,600,000. Based on 2019 data, the target is about 76.96% from total of 2019 Indonesian's population. \n",
        "This tells us that at least more than 3/4 of Indonesian's population have to be vaccinated so that will leads the government to take new policies and decisions."
      ]
    },
    {
      "cell_type": "markdown",
      "metadata": {
        "id": "dohp12eceRuj"
      },
      "source": [
        "We obtain the daily data from the previously mentioned link that contains the number reached everyday in percentage (%).\n",
        "\n",
        "In this project, we will published the prediction in 3 time segments: predictions after the vaccination is reached until 25%, 50%, and 75%. \n",
        "\n",
        "(*THIS SEGMENT IS THE UPDATED DATA AFTER WE REACH THE SECOND QUARTER OF DOSE 1 TARGET*)\n",
        "\n",
        "\n",
        "Before we start, please make sure we are in the same frame that we will set January 13th 2021 as day-1 in this data. This date was set since the first Vaccine Dose 1 was recieved by President of Indonesia, Mr. Joko Widodo.\n",
        "\n",
        "We will use and also compare which one best from the list of:\n",
        "1. Linear Regression,\n",
        "2. Polynomial Regression to the power of 2, and\n",
        "3. Polynomial Regression to the power of 3."
      ]
    },
    {
      "cell_type": "markdown",
      "metadata": {
        "id": "5xmMuoNB8lft"
      },
      "source": [
        "##Importing The Library##"
      ]
    },
    {
      "cell_type": "markdown",
      "metadata": {
        "id": "ePHdz17d6ThB"
      },
      "source": [
        "We will import some libraries that will be used later"
      ]
    },
    {
      "cell_type": "code",
      "metadata": {
        "id": "ei25nuiptT1G"
      },
      "source": [
        "import numpy as np\n",
        "import pandas as pd\n",
        "import matplotlib.pyplot as plt\n",
        "from pandas import DataFrame\n",
        "import statistics as stat\n",
        "import scipy\n",
        "from scipy import stats\n",
        "import datetime\n",
        "import math\n",
        "from IPython.display import display, Math, Latex"
      ],
      "execution_count": 30,
      "outputs": []
    },
    {
      "cell_type": "markdown",
      "metadata": {
        "id": "q2CrRZrFy3mR"
      },
      "source": [
        "##Add The Data"
      ]
    },
    {
      "cell_type": "markdown",
      "metadata": {
        "id": "p3GAfgZn6dp8"
      },
      "source": [
        "By adding the date, we will use datetime library to convert 'the date' data into data of 'order of the day'. So we can convert the date into the number of the day after January 13th 2021.\n",
        "\n",
        "In this Dose 1 cell, we will add the date (as 'vac1' list) and the vaccination percentage at that time (as 'am_vac1' list).\n",
        "Here is the table that contains:\n",
        "1. days after January 13th 2021,\n",
        "2. date, and\n",
        "3. vaccination percentage at that time."
      ]
    },
    {
      "cell_type": "code",
      "metadata": {
        "colab": {
          "base_uri": "https://localhost:8080/",
          "height": 408
        },
        "id": "Ni333B4fjSwj",
        "outputId": "8b369a84-8684-4c4b-823d-591ed563de99"
      },
      "source": [
        "#DOSE 1\n",
        "\n",
        "import datetime as dt\n",
        "\n",
        "vac1, am_vac1 = [dt.date(2021, 3, 10), dt.date(2021, 3, 11), dt.date(2021, 3, 31), dt.date(2021, 4, 30), dt.date(2021, 5, 30),\n",
        "      dt.date(2021, 6, 14), dt.date(2021, 6, 23), dt.date(2021, 6, 29), dt.date(2021, 7, 1), dt.date(2021, 7, 12),\n",
        "      dt.date(2021, 7, 15), dt.date(2021, 7, 16), dt.date(2021, 7, 17), dt.date(2021, 7, 18), dt.date(2021, 7, 19),\n",
        "      dt.date(2021, 7, 21), dt.date(2021, 7, 22), dt.date(2021, 7, 24), dt.date(2021, 7, 25), dt.date(2021, 7, 26),\n",
        "      dt.date(2021, 7, 27), dt.date(2021, 7, 28), dt.date(2021, 7, 29), dt.date(2021, 7, 30), dt.date(2021, 7, 31),\n",
        "      dt.date(2021, 8, 1), dt.date(2021, 8, 3), dt.date(2021, 8, 4), dt.date(2021, 8, 5), dt.date(2021, 8, 6), dt.date(2021, 8, 7),\n",
        "      dt.date(2021, 8, 8), dt.date(2021, 8, 12), dt.date(2021, 8, 13), dt.date(2021, 8, 15), dt.date(2021, 8, 17),\n",
        "      dt.date(2021, 8, 19), dt.date(2021, 8, 20), dt.date(2021, 8, 22), dt.date(2021, 8, 23), dt.date(2021, 8, 24),\n",
        "      dt.date(2021, 8, 27), dt.date(2021, 9, 9), dt.date(2021, 9, 11), dt.date(2021, 9, 12), dt.date(2021, 9, 13),\n",
        "      dt.date(2021, 9, 16), dt.date(2021, 9, 18), dt.date(2021, 9, 20), dt.date(2021, 9, 21), dt.date(2021, 9, 22),\n",
        "      dt.date(2021, 9, 23), dt.date(2021, 9, 28), dt.date(2021, 9, 29), dt.date(2021, 10, 2), dt.date(2021, 10, 3),\n",
        "      dt.date(2021, 10, 4), dt.date(2021, 10, 6), dt.date(2021, 10, 7), dt.date(2021, 10, 8), dt.date(2021, 10, 9),\n",
        "      dt.date(2021, 10, 10), dt.date(2021, 10, 11), dt.date(2021, 10, 12), dt.date(2021, 10, 13), dt.date(2021, 10, 14)\n",
        "      ],  [   2,    2.02,     4,     6,     8, \n",
        "             10,      12,    14,    16,  18.6,\n",
        "          19.03,   19.64, 19.82, 20.06, 20.32, \n",
        "          20.58,   20.72, 21.29, 21.39, 21.61, \n",
        "          21.86,   22.11, 22.36, 22.57, 22.68,\n",
        "          22.90, 23.10, 23.29, 23.46, 23.79, 23.99,\n",
        "           24.25, 25.08, 25.26, 25.92, 26.46, 27.04,\n",
        "           27.22, 27.53, 27.86, 28.51, 29.19, 34.02, 34.87,\n",
        "           34.99, 35.45, 36.77, 37.96, 38.25, 38.93,\n",
        "           39.72, 40.39, 42.83, 43.39, 44.69, 45.09, 45.24, 46.15,\n",
        "           46.52, 47.24, 47.93, 48.04, 48.44, 48.82, 49.55, 50.08]\n",
        "\n",
        "#Convert the date into the number of days counted from January 13th 2021.\n",
        "from datetime import date\n",
        "d0 = date(2021, 1, 13) #13 Januari 2021\n",
        "hari1 = []\n",
        "for i in range(0,len(vac1)):\n",
        "  delta = vac1[i] - d0\n",
        "  hari1.append(delta.days)\n",
        "\n",
        "#Show the table\n",
        "pd.concat([pd.DataFrame(hari1), pd.DataFrame(vac1), pd.DataFrame(am_vac1)], axis=1).set_axis(['days after January 13th 2021','date', '%'], axis=1)"
      ],
      "execution_count": 31,
      "outputs": [
        {
          "output_type": "execute_result",
          "data": {
            "text/html": [
              "<div>\n",
              "<style scoped>\n",
              "    .dataframe tbody tr th:only-of-type {\n",
              "        vertical-align: middle;\n",
              "    }\n",
              "\n",
              "    .dataframe tbody tr th {\n",
              "        vertical-align: top;\n",
              "    }\n",
              "\n",
              "    .dataframe thead th {\n",
              "        text-align: right;\n",
              "    }\n",
              "</style>\n",
              "<table border=\"1\" class=\"dataframe\">\n",
              "  <thead>\n",
              "    <tr style=\"text-align: right;\">\n",
              "      <th></th>\n",
              "      <th>days after January 13th 2021</th>\n",
              "      <th>date</th>\n",
              "      <th>%</th>\n",
              "    </tr>\n",
              "  </thead>\n",
              "  <tbody>\n",
              "    <tr>\n",
              "      <th>0</th>\n",
              "      <td>56</td>\n",
              "      <td>2021-03-10</td>\n",
              "      <td>2.00</td>\n",
              "    </tr>\n",
              "    <tr>\n",
              "      <th>1</th>\n",
              "      <td>57</td>\n",
              "      <td>2021-03-11</td>\n",
              "      <td>2.02</td>\n",
              "    </tr>\n",
              "    <tr>\n",
              "      <th>2</th>\n",
              "      <td>77</td>\n",
              "      <td>2021-03-31</td>\n",
              "      <td>4.00</td>\n",
              "    </tr>\n",
              "    <tr>\n",
              "      <th>3</th>\n",
              "      <td>107</td>\n",
              "      <td>2021-04-30</td>\n",
              "      <td>6.00</td>\n",
              "    </tr>\n",
              "    <tr>\n",
              "      <th>4</th>\n",
              "      <td>137</td>\n",
              "      <td>2021-05-30</td>\n",
              "      <td>8.00</td>\n",
              "    </tr>\n",
              "    <tr>\n",
              "      <th>...</th>\n",
              "      <td>...</td>\n",
              "      <td>...</td>\n",
              "      <td>...</td>\n",
              "    </tr>\n",
              "    <tr>\n",
              "      <th>61</th>\n",
              "      <td>270</td>\n",
              "      <td>2021-10-10</td>\n",
              "      <td>48.04</td>\n",
              "    </tr>\n",
              "    <tr>\n",
              "      <th>62</th>\n",
              "      <td>271</td>\n",
              "      <td>2021-10-11</td>\n",
              "      <td>48.44</td>\n",
              "    </tr>\n",
              "    <tr>\n",
              "      <th>63</th>\n",
              "      <td>272</td>\n",
              "      <td>2021-10-12</td>\n",
              "      <td>48.82</td>\n",
              "    </tr>\n",
              "    <tr>\n",
              "      <th>64</th>\n",
              "      <td>273</td>\n",
              "      <td>2021-10-13</td>\n",
              "      <td>49.55</td>\n",
              "    </tr>\n",
              "    <tr>\n",
              "      <th>65</th>\n",
              "      <td>274</td>\n",
              "      <td>2021-10-14</td>\n",
              "      <td>50.08</td>\n",
              "    </tr>\n",
              "  </tbody>\n",
              "</table>\n",
              "<p>66 rows × 3 columns</p>\n",
              "</div>"
            ],
            "text/plain": [
              "    days after January 13th 2021        date      %\n",
              "0                             56  2021-03-10   2.00\n",
              "1                             57  2021-03-11   2.02\n",
              "2                             77  2021-03-31   4.00\n",
              "3                            107  2021-04-30   6.00\n",
              "4                            137  2021-05-30   8.00\n",
              "..                           ...         ...    ...\n",
              "61                           270  2021-10-10  48.04\n",
              "62                           271  2021-10-11  48.44\n",
              "63                           272  2021-10-12  48.82\n",
              "64                           273  2021-10-13  49.55\n",
              "65                           274  2021-10-14  50.08\n",
              "\n",
              "[66 rows x 3 columns]"
            ]
          },
          "metadata": {},
          "execution_count": 31
        }
      ]
    },
    {
      "cell_type": "markdown",
      "metadata": {
        "id": "X6Siio4fAVp7"
      },
      "source": [
        "Just like Dose 1, in this Dose 2 cell we will add the date (as 'vac2' list) and the vaccination percentage for dose 2 at that time (as 'am_vac2' list).\n",
        "Here is the table that contains:\n",
        "1. days after January 13th 2021,\n",
        "2. date, and\n",
        "3. vaccination percentage (for dose 2) at that time."
      ]
    },
    {
      "cell_type": "code",
      "metadata": {
        "colab": {
          "base_uri": "https://localhost:8080/",
          "height": 408
        },
        "id": "ANOIBmIFfLbB",
        "outputId": "7610b408-ed94-4ffb-a549-8361b3a14947"
      },
      "source": [
        "#DOSE 2\n",
        "\n",
        "import datetime as dt\n",
        "\n",
        "tr_vac3, tr_am_vac3 = [dt.date(2021, 4, 1), dt.date(2021, 5, 6), dt.date(2021, 6, 21), dt.date(2021, 7, 16), dt.date(2021, 7, 17),\n",
        "      dt.date(2021, 7, 18), dt.date(2021, 7, 19), dt.date(2021, 7, 21), dt.date(2021, 7, 22), dt.date(2021, 7, 24),\n",
        "      dt.date(2021, 7, 25), dt.date(2021, 7, 26), dt.date(2021, 7, 27), dt.date(2021, 7, 28), dt.date(2021, 7, 29),\n",
        "      dt.date(2021, 7, 30), dt.date(2021, 7, 31), dt.date(2021, 8, 1), dt.date(2021, 8, 3), dt.date(2021, 8, 4),\n",
        "      dt.date(2021, 8, 5), dt.date(2021, 8, 6), dt.date(2021, 8, 7), dt.date(2021, 8, 8), dt.date(2021, 8, 12), dt.date(2021, 8, 13),\n",
        "      dt.date(2021, 8, 15), dt.date(2021, 8, 17), dt.date(2021, 8, 19), dt.date(2021, 8, 20), dt.date(2021, 8, 22),\n",
        "      dt.date(2021, 8, 23), dt.date(2021, 8, 24), dt.date(2021, 8, 27), dt.date(2021, 9, 9), dt.date(2021, 9, 11),\n",
        "      dt.date(2021, 9, 12), dt.date(2021, 9, 13), dt.date(2021, 9, 16), dt.date(2021, 9, 18), dt.date(2021, 9, 20),\n",
        "      dt.date(2021, 9, 21), dt.date(2021, 9, 22), dt.date(2021, 9, 23), dt.date(2021, 9, 28), dt.date(2021, 9, 29),\n",
        "      dt.date(2021, 10, 2), dt.date(2021, 10, 3), dt.date(2021, 10, 4), dt.date(2021, 10, 6), dt.date(2021, 10, 7),\n",
        "      dt.date(2021, 10, 8), dt.date(2021, 10, 9), dt.date(2021, 10, 10), dt.date(2021, 10, 11), dt.date(2021, 10, 12),\n",
        "      dt.date(2021, 10, 13), dt.date(2021, 10, 14)\n",
        "\n",
        "      ],[   2,    4,    6, 7.73, 7.79, \n",
        "           7.82,  7.9, 8.03, 8.11, 8.55, \n",
        "           8.61, 8.82, 9.05, 9.29, 9.54,\n",
        "           9.75, 9.86, 10.05, 10.29, 10.55, 10.70,\n",
        "         11.08, 11.30, 11.42, 12.31, 12.69, 13.55,\n",
        "         14.02, 14.69, 14.86, 15.17, 15.48, 16.01,\n",
        "         16.53, 19.5, 19.99, 20.06, 20.32, 21.00, 21.58,\n",
        "         21.72, 22.15, 22.46, 22.73, 24.02, 24.34, 25.12, 25.30,\n",
        "         25.45, 26.28, 26.49, 27.02, 27.48, 27.57, 27.84, 28.20,\n",
        "         28.66, 29.01\n",
        "         ]\n",
        "\n",
        "er = []\n",
        "for i in range (0, len(vac1)):\n",
        "  er.append(datetime.timedelta(days=30) + vac1[i])\n",
        "\n",
        "vac2, am_vac2 = er, am_vac1\n",
        "\n",
        "from datetime import date\n",
        "d0 = date(2021, 1, 13) #13 Januari 2021\n",
        "hari2 = []\n",
        "for i in range(0,len(vac2)):\n",
        "  delto = vac2[i] - d0\n",
        "  hari2.append(delto.days)\n",
        "\n",
        "hari3 = []\n",
        "for i in range(0,len(tr_am_vac3)):\n",
        "  delto = tr_vac3[i] - d0\n",
        "  hari3.append(delto.days)\n",
        "\n",
        "pd.concat([pd.DataFrame(hari2), pd.DataFrame(vac2), pd.DataFrame(am_vac2)], axis=1).set_axis(['days after January 13th 2021','date', '%'], axis=1)"
      ],
      "execution_count": 32,
      "outputs": [
        {
          "output_type": "execute_result",
          "data": {
            "text/html": [
              "<div>\n",
              "<style scoped>\n",
              "    .dataframe tbody tr th:only-of-type {\n",
              "        vertical-align: middle;\n",
              "    }\n",
              "\n",
              "    .dataframe tbody tr th {\n",
              "        vertical-align: top;\n",
              "    }\n",
              "\n",
              "    .dataframe thead th {\n",
              "        text-align: right;\n",
              "    }\n",
              "</style>\n",
              "<table border=\"1\" class=\"dataframe\">\n",
              "  <thead>\n",
              "    <tr style=\"text-align: right;\">\n",
              "      <th></th>\n",
              "      <th>days after January 13th 2021</th>\n",
              "      <th>date</th>\n",
              "      <th>%</th>\n",
              "    </tr>\n",
              "  </thead>\n",
              "  <tbody>\n",
              "    <tr>\n",
              "      <th>0</th>\n",
              "      <td>86</td>\n",
              "      <td>2021-04-09</td>\n",
              "      <td>2.00</td>\n",
              "    </tr>\n",
              "    <tr>\n",
              "      <th>1</th>\n",
              "      <td>87</td>\n",
              "      <td>2021-04-10</td>\n",
              "      <td>2.02</td>\n",
              "    </tr>\n",
              "    <tr>\n",
              "      <th>2</th>\n",
              "      <td>107</td>\n",
              "      <td>2021-04-30</td>\n",
              "      <td>4.00</td>\n",
              "    </tr>\n",
              "    <tr>\n",
              "      <th>3</th>\n",
              "      <td>137</td>\n",
              "      <td>2021-05-30</td>\n",
              "      <td>6.00</td>\n",
              "    </tr>\n",
              "    <tr>\n",
              "      <th>4</th>\n",
              "      <td>167</td>\n",
              "      <td>2021-06-29</td>\n",
              "      <td>8.00</td>\n",
              "    </tr>\n",
              "    <tr>\n",
              "      <th>...</th>\n",
              "      <td>...</td>\n",
              "      <td>...</td>\n",
              "      <td>...</td>\n",
              "    </tr>\n",
              "    <tr>\n",
              "      <th>61</th>\n",
              "      <td>300</td>\n",
              "      <td>2021-11-09</td>\n",
              "      <td>48.04</td>\n",
              "    </tr>\n",
              "    <tr>\n",
              "      <th>62</th>\n",
              "      <td>301</td>\n",
              "      <td>2021-11-10</td>\n",
              "      <td>48.44</td>\n",
              "    </tr>\n",
              "    <tr>\n",
              "      <th>63</th>\n",
              "      <td>302</td>\n",
              "      <td>2021-11-11</td>\n",
              "      <td>48.82</td>\n",
              "    </tr>\n",
              "    <tr>\n",
              "      <th>64</th>\n",
              "      <td>303</td>\n",
              "      <td>2021-11-12</td>\n",
              "      <td>49.55</td>\n",
              "    </tr>\n",
              "    <tr>\n",
              "      <th>65</th>\n",
              "      <td>304</td>\n",
              "      <td>2021-11-13</td>\n",
              "      <td>50.08</td>\n",
              "    </tr>\n",
              "  </tbody>\n",
              "</table>\n",
              "<p>66 rows × 3 columns</p>\n",
              "</div>"
            ],
            "text/plain": [
              "    days after January 13th 2021        date      %\n",
              "0                             86  2021-04-09   2.00\n",
              "1                             87  2021-04-10   2.02\n",
              "2                            107  2021-04-30   4.00\n",
              "3                            137  2021-05-30   6.00\n",
              "4                            167  2021-06-29   8.00\n",
              "..                           ...         ...    ...\n",
              "61                           300  2021-11-09  48.04\n",
              "62                           301  2021-11-10  48.44\n",
              "63                           302  2021-11-11  48.82\n",
              "64                           303  2021-11-12  49.55\n",
              "65                           304  2021-11-13  50.08\n",
              "\n",
              "[66 rows x 3 columns]"
            ]
          },
          "metadata": {},
          "execution_count": 32
        }
      ]
    },
    {
      "cell_type": "markdown",
      "metadata": {
        "id": "PMzohsVEotZQ"
      },
      "source": [
        "##TRAINING THE DATA##"
      ]
    },
    {
      "cell_type": "markdown",
      "metadata": {
        "id": "LP7sLNV2lunr"
      },
      "source": [
        "Based on the title of the project, we will use Linear Regression, Polynomial Regression to the power of 2, and Polynomial Regression to the power of 3.\n",
        "\n",
        "After we Convert the date data, we will train the data by using 3 types of regression. We set the number of day as independent variabels, and the the vaccination percentage as dependent variables."
      ]
    },
    {
      "cell_type": "code",
      "metadata": {
        "id": "QcFkgXY2qYsP"
      },
      "source": [
        "X = np.array(hari1).reshape(-1, 1)\n",
        "y = np.array(am_vac1)\n",
        "\n",
        "M = np.array(hari2).reshape(-1, 1)\n",
        "n = np.array(am_vac2)\n",
        "\n",
        "V = np.array(hari3).reshape(-1, 1)\n",
        "w = np.array(tr_am_vac3)"
      ],
      "execution_count": 33,
      "outputs": []
    },
    {
      "cell_type": "code",
      "metadata": {
        "colab": {
          "base_uri": "https://localhost:8080/"
        },
        "id": "lgBMXX_r3SWx",
        "outputId": "7cb28044-f6f8-453e-dd50-7aa0b52b2e93"
      },
      "source": [
        "from sklearn.linear_model import LinearRegression\n",
        "#For Dose 1\n",
        "lin_reg = LinearRegression()\n",
        "lin_reg.fit(X, y)\n",
        "\n",
        "#For Dose 2\n",
        "lin_regre = LinearRegression()\n",
        "lin_regre.fit(M, n)\n",
        "\n",
        "from sklearn.preprocessing import PolynomialFeatures\n",
        "poly_reg = PolynomialFeatures(degree = 2)\n",
        "\n",
        "#For Dose 1\n",
        "X_poly = poly_reg.fit_transform(X)\n",
        "lin_reg_2 = LinearRegression()\n",
        "lin_reg_2.fit(X_poly, y)\n",
        "\n",
        "poly_reg3 = PolynomialFeatures(degree = 3)\n",
        "X_poly3 = poly_reg3.fit_transform(X)\n",
        "lin_reg_3 = LinearRegression()\n",
        "lin_reg_3.fit(X_poly3, y)\n",
        "\n",
        "#For Dose 2\n",
        "X_polynom = poly_reg.fit_transform(M)\n",
        "lin_regre_2 = LinearRegression()\n",
        "lin_regre_2.fit(X_polynom, n)\n",
        "\n",
        "X_polynom3 = poly_reg3.fit_transform(M)\n",
        "lin_regre_3 = LinearRegression()\n",
        "lin_regre_3.fit(X_polynom3, n)"
      ],
      "execution_count": 34,
      "outputs": [
        {
          "output_type": "execute_result",
          "data": {
            "text/plain": [
              "LinearRegression(copy_X=True, fit_intercept=True, n_jobs=None, normalize=False)"
            ]
          },
          "metadata": {},
          "execution_count": 34
        }
      ]
    },
    {
      "cell_type": "markdown",
      "metadata": {
        "id": "xJTqfd2b0iQh"
      },
      "source": [
        "Before we continue, we have to understand the logic here. From the procedure, we know that someone can be vaccinated for second dose after 30 days since someone was vaccinated for first dose.\n",
        "\n",
        "So, we won't use the **kemenkes dashboard** for dose 2, we will use form of **day of dose 2 = day of dose 1 + 30 days** instead. But we're still using the kemenkes dahsboard data for dose 2 to evaluate the form **day of dose 2 = day of dose 1 + 30 days**."
      ]
    },
    {
      "cell_type": "code",
      "metadata": {
        "colab": {
          "base_uri": "https://localhost:8080/"
        },
        "id": "nUqfCrZiwJXn",
        "outputId": "75579e3d-4c04-4bac-bec4-e7c8d66c5e93"
      },
      "source": [
        "#Alternative\n",
        "\n",
        "#For Dose 2 Alternative\n",
        "Alt_lin_regre = LinearRegression()\n",
        "Alt_lin_regre.fit(V, w)\n",
        "\n",
        "Alt_X_polynom = poly_reg.fit_transform(V)\n",
        "Alt_lin_regre_2 = LinearRegression()\n",
        "Alt_lin_regre_2.fit(Alt_X_polynom, w)\n",
        "\n",
        "Alt_X_polynom3 = poly_reg3.fit_transform(V)\n",
        "Alt_lin_regre_3 = LinearRegression()\n",
        "Alt_lin_regre_3.fit(Alt_X_polynom3, w)"
      ],
      "execution_count": 35,
      "outputs": [
        {
          "output_type": "execute_result",
          "data": {
            "text/plain": [
              "LinearRegression(copy_X=True, fit_intercept=True, n_jobs=None, normalize=False)"
            ]
          },
          "metadata": {},
          "execution_count": 35
        }
      ]
    },
    {
      "cell_type": "markdown",
      "metadata": {
        "id": "s_3qYED0CHb7"
      },
      "source": [
        "##PREDICTION"
      ]
    },
    {
      "cell_type": "markdown",
      "metadata": {
        "id": "3iumZ11A3KdP"
      },
      "source": [
        "After the three of regressors have been train, we will see the prediction for each dose 1 and dose 2 in visual."
      ]
    },
    {
      "cell_type": "code",
      "metadata": {
        "colab": {
          "base_uri": "https://localhost:8080/",
          "height": 512
        },
        "id": "aY6dOFbOqCpO",
        "outputId": "fca50333-97fe-412c-a6ec-3f7d1d18c6ef"
      },
      "source": [
        "#Visual\n",
        "k = np.linspace(1,500,500)\n",
        "k = np.array(k).reshape(-1, 1)\n",
        "\n",
        "fig = plt.figure(figsize=(18,8))\n",
        "\n",
        "fig.add_subplot(1,2,1)\n",
        "plt.scatter(X, y, c = 'red', label = 'real data')\n",
        "plt.plot(k, lin_reg.predict(k), c = 'blue', label = 'linear regression')\n",
        "plt.plot(k, lin_reg_2.predict(poly_reg.fit_transform(k)), c='green', label = 'polynomial regression to the power of 2')\n",
        "plt.plot(k, lin_reg_3.predict(poly_reg3.fit_transform(k)), c='purple', label = 'polynomial regression to the power of 3')\n",
        "plt.title('Prediction of Reaching the Target of The First Dose of COVID-19 Vaccination')\n",
        "plt.ylabel('% of the total target = 208,206,720')\n",
        "plt.xlabel('days after January 13th, 2021')\n",
        "plt.legend()\n",
        "plt.grid()\n",
        "\n",
        "fig.add_subplot(1,2,2)\n",
        "plt.scatter(M, n, c = 'red', label = '30 days-real data')\n",
        "plt.scatter(V, w, c = 'orange', label = 'kemenkes dashboard-real data')\n",
        "plt.plot(k, lin_regre.predict(k), c = 'blue', label = 'linear regression')\n",
        "plt.plot(k, lin_regre_2.predict(poly_reg.fit_transform(k)), c='green', label = 'polynomial regression to the power of 2')\n",
        "plt.plot(k, lin_regre_3.predict(poly_reg3.fit_transform(k)), c='purple', label = 'polynomial regression to the power of 3')\n",
        "\n",
        "plt.title('Prediction of Reaching The Target of The Second Dose of COVID-19 Vaccination')\n",
        "plt.ylabel('% of the total target = 208,206,720')\n",
        "plt.xlabel('days after January 13th, 2021')\n",
        "plt.legend()\n",
        "plt.grid()"
      ],
      "execution_count": 36,
      "outputs": [
        {
          "output_type": "display_data",
          "data": {
            "image/png": "[encoded data removed]",
            "text/plain": [
              "<Figure size 1296x576 with 2 Axes>"
            ]
          },
          "metadata": {
            "needs_background": "light"
          }
        }
      ]
    },
    {
      "cell_type": "markdown",
      "metadata": {
        "id": "Fnbtp1MBXW8U"
      },
      "source": [
        "Visually, we can see that purple curve (Polynomial Regression to the power of 3 model, with the purple curve) is the fastest model which reach 100% line. But, we still have to find out some parameters that will help us to decide which model will be recommended."
      ]
    },
    {
      "cell_type": "markdown",
      "metadata": {
        "id": "D8LgVI0t4h45"
      },
      "source": [
        "##**EVALUATE THE REGRESSORS**\n",
        "\n",
        "After we get the kemenkes dashboard data, we will evaluate the regressors (linear regressor, polynomial regressor to the power of 2, and polynomial regressor to the power 3) by compare the prediction data and the kemenkes dashboard data. Closer r-square score of a regressor to one (1), will be more recommended the regressor will be used."
      ]
    },
    {
      "cell_type": "markdown",
      "metadata": {
        "id": "LG_yNIqzPNO0"
      },
      "source": [
        "###Evaluate Each Regressor"
      ]
    },
    {
      "cell_type": "code",
      "metadata": {
        "colab": {
          "base_uri": "https://localhost:8080/"
        },
        "id": "4S3UFj94MJjo",
        "outputId": "2c63729f-07ff-4988-f65f-8dd201672ec6"
      },
      "source": [
        "#r2_score\n",
        "raw_reg1_1 = []\n",
        "raw_reg1_2 = []\n",
        "raw_reg1_3 = []\n",
        "\n",
        "hari1_new = np.array(hari1).reshape(-1,1)\n",
        "for i in range(0,len(hari1_new)): \n",
        "  raw_reg1_1.append(lin_reg.predict(hari1_new[[i]]))\n",
        "  raw_reg1_2.append(lin_reg_2.predict(poly_reg.fit_transform(hari1_new[[i]])))\n",
        "  raw_reg1_3.append(lin_reg_3.predict(poly_reg3.fit_transform(hari1_new[[i]])))\n",
        "\n",
        "raw_reg2_1 = []\n",
        "raw_reg2_2 = []\n",
        "raw_reg2_3 = []\n",
        " \n",
        "hari2_new = np.array(hari2).reshape(-1,1)\n",
        "for i in range(0,len(hari2_new)):\n",
        "  raw_reg2_1.append(lin_regre.predict(hari2_new[[i]]))\n",
        "  raw_reg2_2.append(lin_regre_2.predict(poly_reg.fit_transform(hari2_new[[i]])))\n",
        "  raw_reg2_3.append(lin_regre_3.predict(poly_reg3.fit_transform(hari2_new[[i]]))) \n",
        "\n",
        "raw_reg3_1 = []\n",
        "raw_reg3_2 = []\n",
        "raw_reg3_3 = []\n",
        " \n",
        "hari3_new = np.array(hari3).reshape(-1,1)\n",
        "for i in range(0,len(hari3_new)):\n",
        "  raw_reg3_1.append(Alt_lin_regre.predict(hari3_new[[i]]))\n",
        "  raw_reg3_2.append(Alt_lin_regre_2.predict(poly_reg.fit_transform(hari3_new[[i]])))\n",
        "  raw_reg3_3.append(Alt_lin_regre_3.predict(poly_reg3.fit_transform(hari3_new[[i]]))) \n",
        "\n",
        "\n",
        "from sklearn.metrics import r2_score\n",
        "print('for First Dose Vaccine,', '\\n',\n",
        "      'r2 score for linear regression =', r2_score(raw_reg1_1, am_vac1),'\\n',\n",
        "      'r2 score for polynomial regression to the power of 2 =', r2_score(raw_reg1_2, am_vac1), '\\n',\n",
        "      'r2 score for polynomial regression to the power of 3 =', r2_score(raw_reg1_3, am_vac1))\n",
        "\n",
        "print('for Second Dose Vaccine,', '\\n',\n",
        "      'r2 score for linear regression =', r2_score(raw_reg2_1, am_vac2),'\\n',\n",
        "      'r2 score for polynomial regression to the power of 2 =', r2_score(raw_reg2_2, am_vac2), '\\n',\n",
        "      'r2 score for polynomial regression to the power of 3 =', r2_score(raw_reg2_3, am_vac2))\n",
        "\n",
        "print('for Second Dose Vaccine Dashboard Real-Data,', '\\n',\n",
        "      'r2 score for linear regression =', r2_score(raw_reg3_1, tr_am_vac3),'\\n',\n",
        "      'r2 score for polynomial regression to the power of 2 =', r2_score(raw_reg3_2, tr_am_vac3), '\\n',\n",
        "      'r2 score for polynomial regression to the power of 3 =', r2_score(raw_reg3_3, tr_am_vac3))"
      ],
      "execution_count": 37,
      "outputs": [
        {
          "output_type": "stream",
          "name": "stdout",
          "text": [
            "for First Dose Vaccine, \n",
            " r2 score for linear regression = 0.8971976383470568 \n",
            " r2 score for polynomial regression to the power of 2 = 0.995228391446012 \n",
            " r2 score for polynomial regression to the power of 3 = 0.996458483046486\n",
            "for Second Dose Vaccine, \n",
            " r2 score for linear regression = 0.8971976383470567 \n",
            " r2 score for polynomial regression to the power of 2 = 0.9952283914460117 \n",
            " r2 score for polynomial regression to the power of 3 = 0.9964584830464377\n",
            "for Second Dose Vaccine Dashboard Real-Data, \n",
            " r2 score for linear regression = 0.8678787170025289 \n",
            " r2 score for polynomial regression to the power of 2 = 0.9954531085482431 \n",
            " r2 score for polynomial regression to the power of 3 = 0.9954538526248794\n"
          ]
        }
      ]
    },
    {
      "cell_type": "code",
      "metadata": {
        "id": "b5qJgbJ1prwo"
      },
      "source": [
        "#The Predictions from each Regression Model\n",
        "reg1_1 = []\n",
        "reg1_2 = []\n",
        "reg1_3 = []\n",
        "\n",
        "import datetime \n",
        "for i in range(0,len(k)): \n",
        "  reg1_1.append(lin_reg.predict(k[[i]]))\n",
        "  reg1_2.append(lin_reg_2.predict(poly_reg.fit_transform(k[[i]])))\n",
        "  reg1_3.append(lin_reg_3.predict(poly_reg3.fit_transform(k[[i]])))\n",
        "\n",
        "reg2_1 = []\n",
        "reg2_2 = []\n",
        "reg2_3 = []\n",
        "\n",
        "import datetime \n",
        "for i in range(0,len(k)):\n",
        "  reg2_1.append(lin_regre.predict(k[[i]]))\n",
        "  reg2_2.append(lin_regre_2.predict(poly_reg.fit_transform(k[[i]])))\n",
        "  reg2_3.append(lin_regre_3.predict(poly_reg3.fit_transform(k[[i]]))) \n",
        "\n",
        "#Dashboard Real-Data\n",
        "reg3_1 = []\n",
        "reg3_2 = []\n",
        "reg3_3 = []\n",
        "\n",
        "import datetime \n",
        "for i in range(0,len(k)):\n",
        "  reg3_1.append(Alt_lin_regre.predict(k[[i]]))\n",
        "  reg3_2.append(Alt_lin_regre_2.predict(poly_reg.fit_transform(k[[i]])))\n",
        "  reg3_3.append(Alt_lin_regre_3.predict(poly_reg3.fit_transform(k[[i]]))) "
      ],
      "execution_count": 38,
      "outputs": []
    },
    {
      "cell_type": "markdown",
      "metadata": {
        "id": "u4zOu3bSPYoK"
      },
      "source": [
        "###Choosing Which Regression Model That Will Be Used"
      ]
    },
    {
      "cell_type": "code",
      "metadata": {
        "colab": {
          "base_uri": "https://localhost:8080/"
        },
        "id": "i8AvBN6BkA2H",
        "outputId": "6fdcf41c-5bcb-4776-a3b2-a24b4a1d1dd2"
      },
      "source": [
        "#Choose the regreesion model based on the best r2_score and the moving trend\n",
        "\n",
        "p1 = lin_reg.predict(k)\n",
        "p2 = lin_reg_2.predict(poly_reg.fit_transform(k))\n",
        "p3 = lin_reg_3.predict(poly_reg3.fit_transform(k))\n",
        "\n",
        "q1 = lin_regre.predict(k)\n",
        "q2 = lin_regre_2.predict(poly_reg.fit_transform(k))\n",
        "q3 = lin_regre_3.predict(poly_reg3.fit_transform(k))\n",
        "\n",
        "o1 = Alt_lin_regre.predict(k)\n",
        "o2 = Alt_lin_regre_2.predict(poly_reg.fit_transform(k))\n",
        "o3 = Alt_lin_regre_3.predict(poly_reg3.fit_transform(k)) \n",
        "\n",
        "#dose 1\n",
        "if p1[0] < p1[len(p1) - 1]:\n",
        "  if r2_score(raw_reg1_1,am_vac1) > r2_score(raw_reg1_2,am_vac1):\n",
        "    if r2_score(raw_reg1_1,am_vac1) > r2_score(raw_reg1_3,am_vac1):\n",
        "      reg_best1 = reg1_1\n",
        "      print('We will use the \\'linear regression model\\' for the data of first dose')\n",
        "    else:\n",
        "      if p3[0] < p3[len(p3) - 1]:\n",
        "        reg_best1 = reg1_3\n",
        "        print('We will use \\'polynomial regression to the power of 3\\' for the data of first dose')\n",
        "      else:\n",
        "        reg_best1 = reg1_1\n",
        "        print('We will use the \\'linear regression model\\' for the data of first dose')\n",
        "  else:\n",
        "    if p2[0] < p2[len(p2) - 1]:\n",
        "      if r2_score(raw_reg1_2,am_vac1) > r2_score(raw_reg1_3,am_vac1):\n",
        "        reg_best1 = reg1_2\n",
        "        print('We will use \\'polynomial regression to the power of 2\\' for the data of first dose')\n",
        "      else:\n",
        "        if p3[0] < p3[len(p3) - 1]:\n",
        "          reg_best1 = reg1_3\n",
        "          print('We will use \\'polynomial regression to the power of 3\\' for the data of first dose')\n",
        "        else:\n",
        "          reg_best1 = reg1_2\n",
        "          print('We will use \\'polynomial regression to the power of 2\\' for the data of first dose')\n",
        "\n",
        "#dose 2\n",
        "if q1[0] < q1[len(q1) - 1]:\n",
        "  if r2_score(raw_reg2_1,am_vac2) > r2_score(raw_reg2_2,am_vac2):\n",
        "    if r2_score(raw_reg2_1,am_vac2) > r2_score(raw_reg2_3,am_vac2):\n",
        "      reg_best2 = reg2_1\n",
        "      print('We will use the \\'linear regression model\\' for the data of second dose')\n",
        "    else:\n",
        "      if q3[0] < q3[len(q3) - 1]:\n",
        "        reg_best2 = reg2_3\n",
        "        print('We will use \\'polynomial regression to the power of 3\\' for the data of second dose')\n",
        "      else:\n",
        "        reg_best2 = reg2_1\n",
        "        print('We will use the \\'linear regression model\\' for the data of second dose')\n",
        "  else:\n",
        "    if q2[0] < q2[len(q2) - 1]:\n",
        "      if r2_score(raw_reg2_2,am_vac2) > r2_score(raw_reg2_3,am_vac2):\n",
        "        reg_best2 = reg2_2\n",
        "        print('We will use \\'polynomial regression to the power of 2\\' for the data of second dose')\n",
        "      else:\n",
        "        if q3[0] < q3[len(q3) - 1]:\n",
        "          reg_best2 = reg2_3\n",
        "          print('We will use \\'polynomial regression to the power of 3\\' for the data of second dose')\n",
        "        else:\n",
        "          reg_best2 = reg2_2\n",
        "          print('We will use \\'polynomial regression to the power of 2\\' for the data of second dose')\n",
        "\n",
        "#alternative of dose 2\n",
        "if o1[0] < o1[len(o1) - 1]:\n",
        "  if r2_score(raw_reg3_1,tr_am_vac3) > r2_score(raw_reg3_2,tr_am_vac3):\n",
        "    if r2_score(raw_reg3_1,tr_am_vac3) > r2_score(raw_reg3_3,tr_am_vac3):\n",
        "      reg_best3 = reg3_1\n",
        "    else:\n",
        "      if o3[0] < o3[len(o3) - 1]:\n",
        "        reg_best3 = reg3_3\n",
        "      else:\n",
        "        reg_best3 = reg3_1\n",
        "        \n",
        "  else:\n",
        "    if o2[0] < o2[len(o2) - 1]:\n",
        "      if r2_score(raw_reg3_2,tr_am_vac3) > r2_score(raw_reg3_3,tr_am_vac3):\n",
        "        reg_best3 = reg3_2\n",
        "      else:\n",
        "        if o3[0] < o3[len(o3) - 1]:\n",
        "          reg_best3 = reg3_3\n",
        "        else:\n",
        "          reg_best3 = reg3_2"
      ],
      "execution_count": 39,
      "outputs": [
        {
          "output_type": "stream",
          "name": "stdout",
          "text": [
            "We will use 'polynomial regression to the power of 3' for the data of first dose\n",
            "We will use 'polynomial regression to the power of 3' for the data of second dose\n"
          ]
        }
      ]
    },
    {
      "cell_type": "markdown",
      "metadata": {
        "id": "bmJ79p_UGq2Q"
      },
      "source": [
        "##Prediction for all k"
      ]
    },
    {
      "cell_type": "markdown",
      "metadata": {
        "id": "ExlYbfGiG5iZ"
      },
      "source": [
        "Since we have set the number of the 'k', in this case we set k-days after January 13th 2021 will be predicted, so here are the tables for dose1 and dose 2. Then we will select the days from 'k' that produce the number of % that close to 100%."
      ]
    },
    {
      "cell_type": "code",
      "metadata": {
        "id": "51u-tRDRVwIB",
        "colab": {
          "base_uri": "https://localhost:8080/",
          "height": 408
        },
        "outputId": "65cc0862-f8c9-4e9e-a9f9-c7fccce013eb"
      },
      "source": [
        "#DOSE 1\n",
        "import datetime \n",
        "gh = []\n",
        "datev1 = []\n",
        "for i in range(0, len(k)):\n",
        "  gh.append(datetime.timedelta(days = i))\n",
        "  datev1.append(datetime.date(2021, 1, 13) + gh[i])\n",
        "\n",
        "table2 = pd.concat([pd.DataFrame(k), pd.DataFrame(datev1), pd.DataFrame(reg_best1)], axis=1).set_axis(['days after January 13th 2021','date','%'], axis=1)  \n",
        "table2"
      ],
      "execution_count": 40,
      "outputs": [
        {
          "output_type": "execute_result",
          "data": {
            "text/html": [
              "<div>\n",
              "<style scoped>\n",
              "    .dataframe tbody tr th:only-of-type {\n",
              "        vertical-align: middle;\n",
              "    }\n",
              "\n",
              "    .dataframe tbody tr th {\n",
              "        vertical-align: top;\n",
              "    }\n",
              "\n",
              "    .dataframe thead th {\n",
              "        text-align: right;\n",
              "    }\n",
              "</style>\n",
              "<table border=\"1\" class=\"dataframe\">\n",
              "  <thead>\n",
              "    <tr style=\"text-align: right;\">\n",
              "      <th></th>\n",
              "      <th>days after January 13th 2021</th>\n",
              "      <th>date</th>\n",
              "      <th>%</th>\n",
              "    </tr>\n",
              "  </thead>\n",
              "  <tbody>\n",
              "    <tr>\n",
              "      <th>0</th>\n",
              "      <td>1.0</td>\n",
              "      <td>2021-01-13</td>\n",
              "      <td>-2.649887</td>\n",
              "    </tr>\n",
              "    <tr>\n",
              "      <th>1</th>\n",
              "      <td>2.0</td>\n",
              "      <td>2021-01-14</td>\n",
              "      <td>-2.556444</td>\n",
              "    </tr>\n",
              "    <tr>\n",
              "      <th>2</th>\n",
              "      <td>3.0</td>\n",
              "      <td>2021-01-15</td>\n",
              "      <td>-2.463727</td>\n",
              "    </tr>\n",
              "    <tr>\n",
              "      <th>3</th>\n",
              "      <td>4.0</td>\n",
              "      <td>2021-01-16</td>\n",
              "      <td>-2.371718</td>\n",
              "    </tr>\n",
              "    <tr>\n",
              "      <th>4</th>\n",
              "      <td>5.0</td>\n",
              "      <td>2021-01-17</td>\n",
              "      <td>-2.280402</td>\n",
              "    </tr>\n",
              "    <tr>\n",
              "      <th>...</th>\n",
              "      <td>...</td>\n",
              "      <td>...</td>\n",
              "      <td>...</td>\n",
              "    </tr>\n",
              "    <tr>\n",
              "      <th>495</th>\n",
              "      <td>496.0</td>\n",
              "      <td>2022-05-23</td>\n",
              "      <td>277.519953</td>\n",
              "    </tr>\n",
              "    <tr>\n",
              "      <th>496</th>\n",
              "      <td>497.0</td>\n",
              "      <td>2022-05-24</td>\n",
              "      <td>279.217361</td>\n",
              "    </tr>\n",
              "    <tr>\n",
              "      <th>497</th>\n",
              "      <td>498.0</td>\n",
              "      <td>2022-05-25</td>\n",
              "      <td>280.921991</td>\n",
              "    </tr>\n",
              "    <tr>\n",
              "      <th>498</th>\n",
              "      <td>499.0</td>\n",
              "      <td>2022-05-26</td>\n",
              "      <td>282.633858</td>\n",
              "    </tr>\n",
              "    <tr>\n",
              "      <th>499</th>\n",
              "      <td>500.0</td>\n",
              "      <td>2022-05-27</td>\n",
              "      <td>284.352980</td>\n",
              "    </tr>\n",
              "  </tbody>\n",
              "</table>\n",
              "<p>500 rows × 3 columns</p>\n",
              "</div>"
            ],
            "text/plain": [
              "     days after January 13th 2021        date           %\n",
              "0                             1.0  2021-01-13   -2.649887\n",
              "1                             2.0  2021-01-14   -2.556444\n",
              "2                             3.0  2021-01-15   -2.463727\n",
              "3                             4.0  2021-01-16   -2.371718\n",
              "4                             5.0  2021-01-17   -2.280402\n",
              "..                            ...         ...         ...\n",
              "495                         496.0  2022-05-23  277.519953\n",
              "496                         497.0  2022-05-24  279.217361\n",
              "497                         498.0  2022-05-25  280.921991\n",
              "498                         499.0  2022-05-26  282.633858\n",
              "499                         500.0  2022-05-27  284.352980\n",
              "\n",
              "[500 rows x 3 columns]"
            ]
          },
          "metadata": {},
          "execution_count": 40
        }
      ]
    },
    {
      "cell_type": "code",
      "metadata": {
        "id": "_iePZDx7FyLm",
        "colab": {
          "base_uri": "https://localhost:8080/",
          "height": 408
        },
        "outputId": "c1c1884f-4cac-4b21-ff74-ea8acff6102d"
      },
      "source": [
        "#DOSE 2\n",
        "import datetime \n",
        "ger = []\n",
        "datev2 = []\n",
        "for i in range(0, len(k)):\n",
        "  ger.append(datetime.timedelta(days = i))\n",
        "  datev2.append(datetime.date(2021, 1, 13) + ger[i])\n",
        "\n",
        "table3 = pd.concat([pd.DataFrame(k), pd.DataFrame(datev2), pd.DataFrame(reg_best2)], axis=1).set_axis(['days after Jan 13th 2021','date','%'], axis=1)  \n",
        "table3"
      ],
      "execution_count": 41,
      "outputs": [
        {
          "output_type": "execute_result",
          "data": {
            "text/html": [
              "<div>\n",
              "<style scoped>\n",
              "    .dataframe tbody tr th:only-of-type {\n",
              "        vertical-align: middle;\n",
              "    }\n",
              "\n",
              "    .dataframe tbody tr th {\n",
              "        vertical-align: top;\n",
              "    }\n",
              "\n",
              "    .dataframe thead th {\n",
              "        text-align: right;\n",
              "    }\n",
              "</style>\n",
              "<table border=\"1\" class=\"dataframe\">\n",
              "  <thead>\n",
              "    <tr style=\"text-align: right;\">\n",
              "      <th></th>\n",
              "      <th>days after Jan 13th 2021</th>\n",
              "      <th>date</th>\n",
              "      <th>%</th>\n",
              "    </tr>\n",
              "  </thead>\n",
              "  <tbody>\n",
              "    <tr>\n",
              "      <th>0</th>\n",
              "      <td>1.0</td>\n",
              "      <td>2021-01-13</td>\n",
              "      <td>-5.869946</td>\n",
              "    </tr>\n",
              "    <tr>\n",
              "      <th>1</th>\n",
              "      <td>2.0</td>\n",
              "      <td>2021-01-14</td>\n",
              "      <td>-5.747287</td>\n",
              "    </tr>\n",
              "    <tr>\n",
              "      <th>2</th>\n",
              "      <td>3.0</td>\n",
              "      <td>2021-01-15</td>\n",
              "      <td>-5.625834</td>\n",
              "    </tr>\n",
              "    <tr>\n",
              "      <th>3</th>\n",
              "      <td>4.0</td>\n",
              "      <td>2021-01-16</td>\n",
              "      <td>-5.505572</td>\n",
              "    </tr>\n",
              "    <tr>\n",
              "      <th>4</th>\n",
              "      <td>5.0</td>\n",
              "      <td>2021-01-17</td>\n",
              "      <td>-5.386484</td>\n",
              "    </tr>\n",
              "    <tr>\n",
              "      <th>...</th>\n",
              "      <td>...</td>\n",
              "      <td>...</td>\n",
              "      <td>...</td>\n",
              "    </tr>\n",
              "    <tr>\n",
              "      <th>495</th>\n",
              "      <td>496.0</td>\n",
              "      <td>2022-05-23</td>\n",
              "      <td>229.876210</td>\n",
              "    </tr>\n",
              "    <tr>\n",
              "      <th>496</th>\n",
              "      <td>497.0</td>\n",
              "      <td>2022-05-24</td>\n",
              "      <td>231.364430</td>\n",
              "    </tr>\n",
              "    <tr>\n",
              "      <th>497</th>\n",
              "      <td>498.0</td>\n",
              "      <td>2022-05-25</td>\n",
              "      <td>232.859390</td>\n",
              "    </tr>\n",
              "    <tr>\n",
              "      <th>498</th>\n",
              "      <td>499.0</td>\n",
              "      <td>2022-05-26</td>\n",
              "      <td>234.361107</td>\n",
              "    </tr>\n",
              "    <tr>\n",
              "      <th>499</th>\n",
              "      <td>500.0</td>\n",
              "      <td>2022-05-27</td>\n",
              "      <td>235.869595</td>\n",
              "    </tr>\n",
              "  </tbody>\n",
              "</table>\n",
              "<p>500 rows × 3 columns</p>\n",
              "</div>"
            ],
            "text/plain": [
              "     days after Jan 13th 2021        date           %\n",
              "0                         1.0  2021-01-13   -5.869946\n",
              "1                         2.0  2021-01-14   -5.747287\n",
              "2                         3.0  2021-01-15   -5.625834\n",
              "3                         4.0  2021-01-16   -5.505572\n",
              "4                         5.0  2021-01-17   -5.386484\n",
              "..                        ...         ...         ...\n",
              "495                     496.0  2022-05-23  229.876210\n",
              "496                     497.0  2022-05-24  231.364430\n",
              "497                     498.0  2022-05-25  232.859390\n",
              "498                     499.0  2022-05-26  234.361107\n",
              "499                     500.0  2022-05-27  235.869595\n",
              "\n",
              "[500 rows x 3 columns]"
            ]
          },
          "metadata": {},
          "execution_count": 41
        }
      ]
    },
    {
      "cell_type": "markdown",
      "metadata": {
        "id": "M-ffSFhy2Szm"
      },
      "source": [
        "##The 'Target' Day##"
      ]
    },
    {
      "cell_type": "markdown",
      "metadata": {
        "id": "i9Ib2dK-wRsr"
      },
      "source": [
        "###Dose 1"
      ]
    },
    {
      "cell_type": "markdown",
      "metadata": {
        "id": "IWKgmIG8HKqA"
      },
      "source": [
        "In order to form it as interval, so we need to find out margin of error for each dose. We will find out standard deviaton, z-score, and we want to set the confidence level at 95% as well.\n"
      ]
    },
    {
      "cell_type": "code",
      "metadata": {
        "id": "PElvCuA74CAj",
        "colab": {
          "base_uri": "https://localhost:8080/"
        },
        "outputId": "4f9f4c41-b4b1-4a79-e09a-9a80179c7836"
      },
      "source": [
        "#interval for Dose1\n",
        "sum_errs1 = []\n",
        "\n",
        "for i in range(0, len(y)):\n",
        "  sum_errs1.append((y[i] - reg_best1[i])**2) \n",
        "  \n",
        "sum_error1 = np.sum(sum_errs1)\n",
        "stdev1 = np.sqrt(sum_error1/(len(y) - 1))\n",
        "SE1 = stdev1/(np.sqrt(len(y)))\n",
        "\n",
        "pi = 0.95\n",
        "one_minus_pi = 1 - pi\n",
        "ppf_lookup = 1 - (one_minus_pi / 2)\n",
        "z_score1 = scipy.stats.norm.ppf(ppf_lookup)\n",
        "interval1 = z_score1*SE1\n",
        "print( 'margin of error of Dose 1 =',  round(interval1), 'days')"
      ],
      "execution_count": 42,
      "outputs": [
        {
          "output_type": "stream",
          "name": "stdout",
          "text": [
            "margin of error of Dose 1 = 7 days\n"
          ]
        }
      ]
    },
    {
      "cell_type": "code",
      "metadata": {
        "id": "8dEkyUzIS6bw",
        "colab": {
          "base_uri": "https://localhost:8080/",
          "height": 441
        },
        "outputId": "c39cd86b-3a10-4ad3-f862-4113c957dad5"
      },
      "source": [
        "#Dose 1\n",
        "a = table2[table2['%'] > 49][table2['%'] < 110]\n",
        "a"
      ],
      "execution_count": 43,
      "outputs": [
        {
          "output_type": "stream",
          "name": "stderr",
          "text": [
            "/usr/local/lib/python3.7/dist-packages/ipykernel_launcher.py:2: UserWarning: Boolean Series key will be reindexed to match DataFrame index.\n",
            "  \n"
          ]
        },
        {
          "output_type": "execute_result",
          "data": {
            "text/html": [
              "<div>\n",
              "<style scoped>\n",
              "    .dataframe tbody tr th:only-of-type {\n",
              "        vertical-align: middle;\n",
              "    }\n",
              "\n",
              "    .dataframe tbody tr th {\n",
              "        vertical-align: top;\n",
              "    }\n",
              "\n",
              "    .dataframe thead th {\n",
              "        text-align: right;\n",
              "    }\n",
              "</style>\n",
              "<table border=\"1\" class=\"dataframe\">\n",
              "  <thead>\n",
              "    <tr style=\"text-align: right;\">\n",
              "      <th></th>\n",
              "      <th>days after January 13th 2021</th>\n",
              "      <th>date</th>\n",
              "      <th>%</th>\n",
              "    </tr>\n",
              "  </thead>\n",
              "  <tbody>\n",
              "    <tr>\n",
              "      <th>272</th>\n",
              "      <td>273.0</td>\n",
              "      <td>2021-10-12</td>\n",
              "      <td>49.296337</td>\n",
              "    </tr>\n",
              "    <tr>\n",
              "      <th>273</th>\n",
              "      <td>274.0</td>\n",
              "      <td>2021-10-13</td>\n",
              "      <td>49.784258</td>\n",
              "    </tr>\n",
              "    <tr>\n",
              "      <th>274</th>\n",
              "      <td>275.0</td>\n",
              "      <td>2021-10-14</td>\n",
              "      <td>50.275822</td>\n",
              "    </tr>\n",
              "    <tr>\n",
              "      <th>275</th>\n",
              "      <td>276.0</td>\n",
              "      <td>2021-10-15</td>\n",
              "      <td>50.771042</td>\n",
              "    </tr>\n",
              "    <tr>\n",
              "      <th>276</th>\n",
              "      <td>277.0</td>\n",
              "      <td>2021-10-16</td>\n",
              "      <td>51.269937</td>\n",
              "    </tr>\n",
              "    <tr>\n",
              "      <th>...</th>\n",
              "      <td>...</td>\n",
              "      <td>...</td>\n",
              "      <td>...</td>\n",
              "    </tr>\n",
              "    <tr>\n",
              "      <th>358</th>\n",
              "      <td>359.0</td>\n",
              "      <td>2022-01-06</td>\n",
              "      <td>106.210951</td>\n",
              "    </tr>\n",
              "    <tr>\n",
              "      <th>359</th>\n",
              "      <td>360.0</td>\n",
              "      <td>2022-01-07</td>\n",
              "      <td>107.070736</td>\n",
              "    </tr>\n",
              "    <tr>\n",
              "      <th>360</th>\n",
              "      <td>361.0</td>\n",
              "      <td>2022-01-08</td>\n",
              "      <td>107.935543</td>\n",
              "    </tr>\n",
              "    <tr>\n",
              "      <th>361</th>\n",
              "      <td>362.0</td>\n",
              "      <td>2022-01-09</td>\n",
              "      <td>108.805389</td>\n",
              "    </tr>\n",
              "    <tr>\n",
              "      <th>362</th>\n",
              "      <td>363.0</td>\n",
              "      <td>2022-01-10</td>\n",
              "      <td>109.680289</td>\n",
              "    </tr>\n",
              "  </tbody>\n",
              "</table>\n",
              "<p>91 rows × 3 columns</p>\n",
              "</div>"
            ],
            "text/plain": [
              "     days after January 13th 2021        date           %\n",
              "272                         273.0  2021-10-12   49.296337\n",
              "273                         274.0  2021-10-13   49.784258\n",
              "274                         275.0  2021-10-14   50.275822\n",
              "275                         276.0  2021-10-15   50.771042\n",
              "276                         277.0  2021-10-16   51.269937\n",
              "..                            ...         ...         ...\n",
              "358                         359.0  2022-01-06  106.210951\n",
              "359                         360.0  2022-01-07  107.070736\n",
              "360                         361.0  2022-01-08  107.935543\n",
              "361                         362.0  2022-01-09  108.805389\n",
              "362                         363.0  2022-01-10  109.680289\n",
              "\n",
              "[91 rows x 3 columns]"
            ]
          },
          "metadata": {},
          "execution_count": 43
        }
      ]
    },
    {
      "cell_type": "code",
      "metadata": {
        "id": "HUf6cz_0Tn2s",
        "colab": {
          "base_uri": "https://localhost:8080/"
        },
        "outputId": "20c17b69-d442-4170-dc49-b0545a1d2caf"
      },
      "source": [
        "cd = np.array(a)\n",
        "ror = []\n",
        "\n",
        "gut = []\n",
        "for i in range(0, len(cd)):\n",
        "  gut.append(cd[i][0])\n",
        "\n",
        "for i in range(0, len(cd)):\n",
        "  ror.append(abs(cd[i][2] - 100))\n",
        "\n",
        "mbu = np.array(pd.concat([ pd.DataFrame(gut), pd.DataFrame(ror)], axis=1))\n",
        "qwe = 0\n",
        "\n",
        "for i in range(0, len(mbu)):\n",
        "  qwe = (mbu[i][1])\n",
        "  if qwe == min(ror):\n",
        "    j = i\n",
        "\n",
        "target_point1 = mbu[j][0]\n",
        "\n",
        "f_lower = date(2021, 1, 13) + datetime.timedelta(days = target_point1 - round(interval1))\n",
        "f_upper = date(2021, 1, 13) + datetime.timedelta(days = target_point1 + round(interval1))\n",
        "print('Target Point 1 =', date(2021, 1, 13) + datetime.timedelta(days = target_point1))\n",
        "print('Target of Dose 1 is within the interval from',f_lower, 'until',f_upper)"
      ],
      "execution_count": 44,
      "outputs": [
        {
          "output_type": "stream",
          "name": "stdout",
          "text": [
            "Target Point 1 = 2021-12-31\n",
            "Target of Dose 1 is within the interval from 2021-12-24 until 2022-01-07\n"
          ]
        }
      ]
    },
    {
      "cell_type": "markdown",
      "metadata": {
        "id": "1rflvuBLwMly"
      },
      "source": [
        "###DOSE 2"
      ]
    },
    {
      "cell_type": "code",
      "metadata": {
        "id": "g1un2Rtg4ady",
        "colab": {
          "base_uri": "https://localhost:8080/"
        },
        "outputId": "5be55951-a672-48c7-cb8c-4808993c6249"
      },
      "source": [
        "#interval for Dose2\n",
        "sum_errs2 = []\n",
        "\n",
        "for i in range(0, len(w)):\n",
        "  sum_errs2.append((reg_best2[i] - reg_best3[i])**2) \n",
        "  \n",
        "sum_error2 = np.sum(sum_errs2)\n",
        "stdev2 = np.sqrt(sum_error2/(len(w) - 1))\n",
        "SE2 = stdev2/(np.sqrt(len(w)))\n",
        "\n",
        "pi = 0.95\n",
        "one_minus_pi = 1 - pi\n",
        "ppf_lookup = 1 - (one_minus_pi / 2)\n",
        "z_score2 = scipy.stats.norm.ppf(ppf_lookup)\n",
        "interval2 = z_score2*SE2\n",
        "print( 'margin of error of Dose 2 =',  round(interval2), 'days')"
      ],
      "execution_count": 45,
      "outputs": [
        {
          "output_type": "stream",
          "name": "stdout",
          "text": [
            "margin of error of Dose 2 = 3 days\n"
          ]
        }
      ]
    },
    {
      "cell_type": "code",
      "metadata": {
        "id": "N5LVarJUF-SY",
        "colab": {
          "base_uri": "https://localhost:8080/",
          "height": 441
        },
        "outputId": "073d1736-22d5-4126-c823-43411fd68622"
      },
      "source": [
        "#Dose 2\n",
        "c = table3[table3['%'] > 49][table3['%'] < 110]\n",
        "c"
      ],
      "execution_count": 46,
      "outputs": [
        {
          "output_type": "stream",
          "name": "stderr",
          "text": [
            "/usr/local/lib/python3.7/dist-packages/ipykernel_launcher.py:2: UserWarning: Boolean Series key will be reindexed to match DataFrame index.\n",
            "  \n"
          ]
        },
        {
          "output_type": "execute_result",
          "data": {
            "text/html": [
              "<div>\n",
              "<style scoped>\n",
              "    .dataframe tbody tr th:only-of-type {\n",
              "        vertical-align: middle;\n",
              "    }\n",
              "\n",
              "    .dataframe tbody tr th {\n",
              "        vertical-align: top;\n",
              "    }\n",
              "\n",
              "    .dataframe thead th {\n",
              "        text-align: right;\n",
              "    }\n",
              "</style>\n",
              "<table border=\"1\" class=\"dataframe\">\n",
              "  <thead>\n",
              "    <tr style=\"text-align: right;\">\n",
              "      <th></th>\n",
              "      <th>days after Jan 13th 2021</th>\n",
              "      <th>date</th>\n",
              "      <th>%</th>\n",
              "    </tr>\n",
              "  </thead>\n",
              "  <tbody>\n",
              "    <tr>\n",
              "      <th>302</th>\n",
              "      <td>303.0</td>\n",
              "      <td>2021-11-11</td>\n",
              "      <td>49.296337</td>\n",
              "    </tr>\n",
              "    <tr>\n",
              "      <th>303</th>\n",
              "      <td>304.0</td>\n",
              "      <td>2021-11-12</td>\n",
              "      <td>49.784258</td>\n",
              "    </tr>\n",
              "    <tr>\n",
              "      <th>304</th>\n",
              "      <td>305.0</td>\n",
              "      <td>2021-11-13</td>\n",
              "      <td>50.275822</td>\n",
              "    </tr>\n",
              "    <tr>\n",
              "      <th>305</th>\n",
              "      <td>306.0</td>\n",
              "      <td>2021-11-14</td>\n",
              "      <td>50.771042</td>\n",
              "    </tr>\n",
              "    <tr>\n",
              "      <th>306</th>\n",
              "      <td>307.0</td>\n",
              "      <td>2021-11-15</td>\n",
              "      <td>51.269937</td>\n",
              "    </tr>\n",
              "    <tr>\n",
              "      <th>...</th>\n",
              "      <td>...</td>\n",
              "      <td>...</td>\n",
              "      <td>...</td>\n",
              "    </tr>\n",
              "    <tr>\n",
              "      <th>388</th>\n",
              "      <td>389.0</td>\n",
              "      <td>2022-02-05</td>\n",
              "      <td>106.210951</td>\n",
              "    </tr>\n",
              "    <tr>\n",
              "      <th>389</th>\n",
              "      <td>390.0</td>\n",
              "      <td>2022-02-06</td>\n",
              "      <td>107.070736</td>\n",
              "    </tr>\n",
              "    <tr>\n",
              "      <th>390</th>\n",
              "      <td>391.0</td>\n",
              "      <td>2022-02-07</td>\n",
              "      <td>107.935543</td>\n",
              "    </tr>\n",
              "    <tr>\n",
              "      <th>391</th>\n",
              "      <td>392.0</td>\n",
              "      <td>2022-02-08</td>\n",
              "      <td>108.805389</td>\n",
              "    </tr>\n",
              "    <tr>\n",
              "      <th>392</th>\n",
              "      <td>393.0</td>\n",
              "      <td>2022-02-09</td>\n",
              "      <td>109.680289</td>\n",
              "    </tr>\n",
              "  </tbody>\n",
              "</table>\n",
              "<p>91 rows × 3 columns</p>\n",
              "</div>"
            ],
            "text/plain": [
              "     days after Jan 13th 2021        date           %\n",
              "302                     303.0  2021-11-11   49.296337\n",
              "303                     304.0  2021-11-12   49.784258\n",
              "304                     305.0  2021-11-13   50.275822\n",
              "305                     306.0  2021-11-14   50.771042\n",
              "306                     307.0  2021-11-15   51.269937\n",
              "..                        ...         ...         ...\n",
              "388                     389.0  2022-02-05  106.210951\n",
              "389                     390.0  2022-02-06  107.070736\n",
              "390                     391.0  2022-02-07  107.935543\n",
              "391                     392.0  2022-02-08  108.805389\n",
              "392                     393.0  2022-02-09  109.680289\n",
              "\n",
              "[91 rows x 3 columns]"
            ]
          },
          "metadata": {},
          "execution_count": 46
        }
      ]
    },
    {
      "cell_type": "code",
      "metadata": {
        "id": "ebctQcgU3s4g",
        "colab": {
          "base_uri": "https://localhost:8080/"
        },
        "outputId": "d5caa106-cad7-45ae-e895-fcefba1b33dd"
      },
      "source": [
        "cm = np.array(c)\n",
        "rorm = []\n",
        "\n",
        "gutm = []\n",
        "for i in range(0, len(cm)):\n",
        "  gutm.append(cm[i][0])\n",
        "\n",
        "for i in range(0, len(cm)):\n",
        "  rorm.append(abs(cm[i][2] - 100))\n",
        "\n",
        "mbx = np.array(pd.concat([ pd.DataFrame(gutm), pd.DataFrame(rorm)], axis=1))\n",
        "qwo = 0\n",
        "\n",
        "for i in range(0, len(mbx)):\n",
        "  qwo = (mbx[i][1])\n",
        "  if qwo == min(rorm):\n",
        "    j = i\n",
        "\n",
        "target_point2 = mbx[j][0]\n",
        "\n",
        "g_lower = date(2021, 1, 13) + datetime.timedelta(days = target_point2 - round(interval2))\n",
        "g_upper = date(2021, 1, 13) + datetime.timedelta(days = target_point2 + round(interval2))\n",
        "print('Target Point 2 =', date(2021, 1, 13) + datetime.timedelta(days = target_point2))\n",
        "print('Target of Dose 2 within the interval from',g_lower, 'until' ,g_upper)"
      ],
      "execution_count": 47,
      "outputs": [
        {
          "output_type": "stream",
          "name": "stdout",
          "text": [
            "Target Point 2 = 2022-01-30\n",
            "Target of Dose 2 within the interval from 2022-01-27 until 2022-02-02\n"
          ]
        }
      ]
    },
    {
      "cell_type": "markdown",
      "metadata": {
        "id": "xJsQO1YxwZLL"
      },
      "source": [
        "###Conclusion"
      ]
    },
    {
      "cell_type": "markdown",
      "metadata": {
        "id": "wphs8ZP_8sQP"
      },
      "source": [
        "Finally, we get the interval target for Dose 1 and Dose 2 below. Soon, we will evaluate the results after the vaccination real-time data of Dose 1 reach 75%."
      ]
    },
    {
      "cell_type": "code",
      "metadata": {
        "colab": {
          "base_uri": "https://localhost:8080/",
          "height": 653
        },
        "id": "Lc8LFIwUPBw6",
        "outputId": "dc312ddf-7f6f-45f7-a8ff-c2577d007c89"
      },
      "source": [
        "#CONCLUSION\n",
        "\n",
        "#Plotting previous prediction range\n",
        "  #DOSE 1\n",
        "tgl1, val1 = [dt.date(2022, 1, 19), dt.date(2022, 1, 31)\n",
        "      ],  [   2,    2.02]\n",
        "\n",
        "    #Convert the date into the number of days counted from January 13th 2021.\n",
        "from datetime import date\n",
        "d0 = date(2021, 1, 13) #13 Januari 2021\n",
        "dayday1 = []\n",
        "for i in range(0,len(tgl1)):\n",
        "  delta = tgl1[i] - d0\n",
        "  dayday1.append(delta.days)\n",
        "\n",
        "first_range_d1 = np.linspace(min(dayday1), max(dayday1), 10)\n",
        "\n",
        "  #DOSE 2\n",
        "tgl2 = [dt.date(2022, 2, 15), dt.date(2022, 3, 5)]\n",
        "\n",
        "    #Convert the date into the number of days counted from January 13th 2021.\n",
        "from datetime import date\n",
        "d0 = date(2021, 1, 13) #13 Januari 2021\n",
        "dayday2 = []\n",
        "for i in range(0,len(tgl2)):\n",
        "  delta = tgl2[i] - d0\n",
        "  dayday2.append(delta.days)\n",
        "\n",
        "first_range_d2 = np.linspace(min(dayday2), max(dayday2), 10)\n",
        "\n",
        "print('Target of Dose 1 is within the interval from',f_lower, 'until',f_upper)\n",
        "print('Target of Dose 2 is within the interval from',g_lower, 'until' ,g_upper)\n",
        "\n",
        "hu = plt.figure(figsize=(25,10))\n",
        "\n",
        "range1 = np.linspace(target_point1 - round(interval1) , target_point1 + round(interval1) , 2*round(interval1) + 1)\n",
        "range2 = np.linspace(target_point2 - round(interval2) , target_point2 + round(interval2) , 2*round(interval2) + 1)\n",
        "\n",
        "hu.add_subplot(1,2,1)\n",
        "plt.scatter(X, y, c = 'red', label = 'real data')\n",
        "plt.plot(k, reg_best1, c = 'blue', label = 'prediction')\n",
        "plt.scatter(range1, [100]*len(range1), c = 'Green', label = 'range target of Dose 1')\n",
        "plt.scatter(first_range, [100]*len(first_range_d1), c = 'cyan', label = 'first quarter prediction range of dose 1')\n",
        "plt.title('Prediction of Reaching the Target of The First Dose of COVID-19 Vaccination')\n",
        "plt.ylabel('% of the total target = 208,206,720')\n",
        "plt.xlabel('days after January 13th, 2021')\n",
        "plt.legend()\n",
        "plt.grid()\n",
        "\n",
        "hu.add_subplot(1,2,2)\n",
        "plt.scatter(M, n, c = 'red', label = '30 days-real data')\n",
        "plt.scatter(V, w, c = 'orange', label = 'kemenkes dashboard-real data')\n",
        "plt.plot(k, reg_best2, c = 'blue', label = 'prediction')\n",
        "plt.scatter(range2, [100]*len(range2), c = 'Green', label = 'range target of Dose 2')\n",
        "plt.scatter(first_range_d2, [100]*len(first_range_d2), c = 'cyan', label = 'first quarter prediction range of dose 2')\n",
        "plt.title('Prediction of Reaching the Target of The Second Dose of COVID-19 Vaccination')\n",
        "plt.ylabel('% of the total target = 208,206,720')\n",
        "plt.xlabel('days after January 13th, 2021')\n",
        "plt.legend()\n",
        "plt.grid()"
      ],
      "execution_count": 48,
      "outputs": [
        {
          "output_type": "stream",
          "name": "stdout",
          "text": [
            "Target of Dose 1 is within the interval from 2021-12-24 until 2022-01-07\n",
            "Target of Dose 2 is within the interval from 2022-01-27 until 2022-02-02\n"
          ]
        },
        {
          "output_type": "display_data",
          "data": {
            "image/png": "[encoded data removed]",
            "text/plain": [
              "<Figure size 1800x720 with 2 Axes>"
            ]
          },
          "metadata": {
            "needs_background": "light"
          }
        }
      ]
    },
    {
      "cell_type": "markdown",
      "metadata": {
        "id": "KkXj4n3j8qSq"
      },
      "source": [
        "Hopefully, in the end of the process, we will see the red scatter will reach the green scatter (as the prediction interval) in the graphs above. Thanks"
      ]
    }
  ]
}