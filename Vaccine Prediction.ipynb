{
  "nbformat": 4,
  "nbformat_minor": 0,
  "metadata": {
    "colab": {
      "name": "Vaccine.ipynb",
      "provenance": [],
      "collapsed_sections": []
    },
    "kernelspec": {
      "display_name": "Python 3",
      "name": "python3"
    },
    "language_info": {
      "name": "python"
    }
  },
  "cells": [
    {
      "cell_type": "markdown",
      "metadata": {
        "id": "0Kcc0FK-3jJS"
      },
      "source": [
        "#**Prediction of Completed Vaccination in Indonesia By Using Linear Regression and Polynomial Regression**#"
      ]
    },
    {
      "cell_type": "markdown",
      "metadata": {
        "id": "tGN_8Gy13fb2"
      },
      "source": [
        "#INTRODUCTION#"
      ]
    },
    {
      "cell_type": "markdown",
      "metadata": {
        "id": "ZY561ZeFVo01"
      },
      "source": [
        "This is a simple machine learning project in order to predict when the COVID-19 vaccination will be completed as it reaches the target amount. As we know that we can see from https://vaksin.kemkes.go.id/#/vaccines that contains real-time vaccination information in Indonesia, and attached 208,265,720 as the target amount. Indonesian's population in 2019 was about 270,600,000. Based on 2019 data, the target is about 76.96% from total of 2019 Indonesian's population. \n",
        "This tells us that at least more than 3/4 of Indonesian's population have to be vaccinated so that will leads the government to take new policies and decisions."
      ]
    },
    {
      "cell_type": "markdown",
      "metadata": {
        "id": "dohp12eceRuj"
      },
      "source": [
        "We obtain the daily data from the previously mentioned link that contains the number reached everyday in percentage (%).\n",
        "\n",
        "In this project, we will published the prediction in 3 time segments: predictions after the vaccination is reached until 25%, 50%, and 75%. Before we start, please make sure we are in the same frame that we will set January 13th 2021 as day-1 in this data. This date was set since the first Vaccine Dose 1 was recieved by President of Indonesia, Mr. Joko Widodo.\n",
        "\n",
        "We will use and also compare which one best from the list of:\n",
        "1. Linear Regression,\n",
        "2. Polynomial Regression to the power of 2, and\n",
        "3. Polynomial Regression to the power of 3."
      ]
    },
    {
      "cell_type": "markdown",
      "metadata": {
        "id": "5xmMuoNB8lft"
      },
      "source": [
        "##Importing The Library##"
      ]
    },
    {
      "cell_type": "markdown",
      "metadata": {
        "id": "ePHdz17d6ThB"
      },
      "source": [
        "We will import some libraries that will be used later"
      ]
    },
    {
      "cell_type": "code",
      "metadata": {
        "id": "ei25nuiptT1G"
      },
      "source": [
        "import numpy as np\n",
        "import pandas as pd\n",
        "import matplotlib.pyplot as plt\n",
        "from pandas import DataFrame\n",
        "import statistics as stat\n",
        "import scipy\n",
        "from scipy import stats\n",
        "import datetime\n",
        "import math\n",
        "from IPython.display import display, Math, Latex"
      ],
      "execution_count": 1,
      "outputs": []
    },
    {
      "cell_type": "markdown",
      "metadata": {
        "id": "q2CrRZrFy3mR"
      },
      "source": [
        "##Add The Data"
      ]
    },
    {
      "cell_type": "markdown",
      "metadata": {
        "id": "p3GAfgZn6dp8"
      },
      "source": [
        "By adding the date, we will use datetime library to convert 'the date' data into data of 'order of the day'. So we can convert the date into the number of the day after January 13th 2021.\n",
        "\n",
        "In this Dose 1 cell, we will add the date (as 'vac1' list) and the vaccination percentage at that time (as 'am_vac1' list).\n",
        "Here is the table that contains:\n",
        "1. days after January 13th 2021,\n",
        "2. date, and\n",
        "3. vaccination percentage at that time."
      ]
    },
    {
      "cell_type": "code",
      "metadata": {
        "colab": {
          "base_uri": "https://localhost:8080/",
          "height": 1000
        },
        "id": "Ni333B4fjSwj",
        "outputId": "7267f0d3-6f46-45e6-9473-c7aa50fe2868"
      },
      "source": [
        "#DOSE 1\n",
        "\n",
        "import datetime as dt\n",
        "\n",
        "vac1, am_vac1 = [dt.date(2021, 3, 10), dt.date(2021, 3, 11), dt.date(2021, 3, 31), dt.date(2021, 4, 30), dt.date(2021, 5, 30),\n",
        "      dt.date(2021, 6, 14), dt.date(2021, 6, 23), dt.date(2021, 6, 29), dt.date(2021, 7, 1), dt.date(2021, 7, 12),\n",
        "      dt.date(2021, 7, 15), dt.date(2021, 7, 16), dt.date(2021, 7, 17), dt.date(2021, 7, 18), dt.date(2021, 7, 19),\n",
        "      dt.date(2021, 7, 21), dt.date(2021, 7, 22), dt.date(2021, 7, 24), dt.date(2021, 7, 25), dt.date(2021, 7, 26),\n",
        "      dt.date(2021, 7, 27), dt.date(2021, 7, 28), dt.date(2021, 7, 29), dt.date(2021, 7, 30), dt.date(2021, 7, 31),\n",
        "      dt.date(2021, 8, 1), dt.date(2021, 8, 3), dt.date(2021, 8, 4), dt.date(2021, 8, 5), dt.date(2021, 8, 6), dt.date(2021, 8, 7),\n",
        "      dt.date(2021, 8, 8), dt.date(2021, 8, 12)\n",
        "      ],  [   2,    2.02,     4,     6,     8, \n",
        "             10,      12,    14,    16,  18.6,\n",
        "          19.03,   19.64, 19.82, 20.06, 20.32, \n",
        "          20.58,   20.72, 21.29, 21.39, 21.61, \n",
        "          21.86,   22.11, 22.36, 22.57, 22.68,\n",
        "          22.90, 23.10, 23.29, 23.46, 23.79, 23.99,\n",
        "           24.25, 25.08]\n",
        "\n",
        "#Convert the date into the number of days counted from January 13th 2021.\n",
        "from datetime import date\n",
        "d0 = date(2021, 1, 13) #13 Januari 2021\n",
        "hari1 = []\n",
        "for i in range(0,len(vac1)):\n",
        "  delta = vac1[i] - d0\n",
        "  hari1.append(delta.days)\n",
        "\n",
        "#Show the table\n",
        "pd.concat([pd.DataFrame(hari1), pd.DataFrame(vac1), pd.DataFrame(am_vac1)], axis=1).set_axis(['days after January 13th 2021','date', '%'], axis=1)"
      ],
      "execution_count": 2,
      "outputs": [
        {
          "output_type": "execute_result",
          "data": {
            "text/html": [
              "<div>\n",
              "<style scoped>\n",
              "    .dataframe tbody tr th:only-of-type {\n",
              "        vertical-align: middle;\n",
              "    }\n",
              "\n",
              "    .dataframe tbody tr th {\n",
              "        vertical-align: top;\n",
              "    }\n",
              "\n",
              "    .dataframe thead th {\n",
              "        text-align: right;\n",
              "    }\n",
              "</style>\n",
              "<table border=\"1\" class=\"dataframe\">\n",
              "  <thead>\n",
              "    <tr style=\"text-align: right;\">\n",
              "      <th></th>\n",
              "      <th>days after January 13th 2021</th>\n",
              "      <th>date</th>\n",
              "      <th>%</th>\n",
              "    </tr>\n",
              "  </thead>\n",
              "  <tbody>\n",
              "    <tr>\n",
              "      <th>0</th>\n",
              "      <td>56</td>\n",
              "      <td>2021-03-10</td>\n",
              "      <td>2.00</td>\n",
              "    </tr>\n",
              "    <tr>\n",
              "      <th>1</th>\n",
              "      <td>57</td>\n",
              "      <td>2021-03-11</td>\n",
              "      <td>2.02</td>\n",
              "    </tr>\n",
              "    <tr>\n",
              "      <th>2</th>\n",
              "      <td>77</td>\n",
              "      <td>2021-03-31</td>\n",
              "      <td>4.00</td>\n",
              "    </tr>\n",
              "    <tr>\n",
              "      <th>3</th>\n",
              "      <td>107</td>\n",
              "      <td>2021-04-30</td>\n",
              "      <td>6.00</td>\n",
              "    </tr>\n",
              "    <tr>\n",
              "      <th>4</th>\n",
              "      <td>137</td>\n",
              "      <td>2021-05-30</td>\n",
              "      <td>8.00</td>\n",
              "    </tr>\n",
              "    <tr>\n",
              "      <th>5</th>\n",
              "      <td>152</td>\n",
              "      <td>2021-06-14</td>\n",
              "      <td>10.00</td>\n",
              "    </tr>\n",
              "    <tr>\n",
              "      <th>6</th>\n",
              "      <td>161</td>\n",
              "      <td>2021-06-23</td>\n",
              "      <td>12.00</td>\n",
              "    </tr>\n",
              "    <tr>\n",
              "      <th>7</th>\n",
              "      <td>167</td>\n",
              "      <td>2021-06-29</td>\n",
              "      <td>14.00</td>\n",
              "    </tr>\n",
              "    <tr>\n",
              "      <th>8</th>\n",
              "      <td>169</td>\n",
              "      <td>2021-07-01</td>\n",
              "      <td>16.00</td>\n",
              "    </tr>\n",
              "    <tr>\n",
              "      <th>9</th>\n",
              "      <td>180</td>\n",
              "      <td>2021-07-12</td>\n",
              "      <td>18.60</td>\n",
              "    </tr>\n",
              "    <tr>\n",
              "      <th>10</th>\n",
              "      <td>183</td>\n",
              "      <td>2021-07-15</td>\n",
              "      <td>19.03</td>\n",
              "    </tr>\n",
              "    <tr>\n",
              "      <th>11</th>\n",
              "      <td>184</td>\n",
              "      <td>2021-07-16</td>\n",
              "      <td>19.64</td>\n",
              "    </tr>\n",
              "    <tr>\n",
              "      <th>12</th>\n",
              "      <td>185</td>\n",
              "      <td>2021-07-17</td>\n",
              "      <td>19.82</td>\n",
              "    </tr>\n",
              "    <tr>\n",
              "      <th>13</th>\n",
              "      <td>186</td>\n",
              "      <td>2021-07-18</td>\n",
              "      <td>20.06</td>\n",
              "    </tr>\n",
              "    <tr>\n",
              "      <th>14</th>\n",
              "      <td>187</td>\n",
              "      <td>2021-07-19</td>\n",
              "      <td>20.32</td>\n",
              "    </tr>\n",
              "    <tr>\n",
              "      <th>15</th>\n",
              "      <td>189</td>\n",
              "      <td>2021-07-21</td>\n",
              "      <td>20.58</td>\n",
              "    </tr>\n",
              "    <tr>\n",
              "      <th>16</th>\n",
              "      <td>190</td>\n",
              "      <td>2021-07-22</td>\n",
              "      <td>20.72</td>\n",
              "    </tr>\n",
              "    <tr>\n",
              "      <th>17</th>\n",
              "      <td>192</td>\n",
              "      <td>2021-07-24</td>\n",
              "      <td>21.29</td>\n",
              "    </tr>\n",
              "    <tr>\n",
              "      <th>18</th>\n",
              "      <td>193</td>\n",
              "      <td>2021-07-25</td>\n",
              "      <td>21.39</td>\n",
              "    </tr>\n",
              "    <tr>\n",
              "      <th>19</th>\n",
              "      <td>194</td>\n",
              "      <td>2021-07-26</td>\n",
              "      <td>21.61</td>\n",
              "    </tr>\n",
              "    <tr>\n",
              "      <th>20</th>\n",
              "      <td>195</td>\n",
              "      <td>2021-07-27</td>\n",
              "      <td>21.86</td>\n",
              "    </tr>\n",
              "    <tr>\n",
              "      <th>21</th>\n",
              "      <td>196</td>\n",
              "      <td>2021-07-28</td>\n",
              "      <td>22.11</td>\n",
              "    </tr>\n",
              "    <tr>\n",
              "      <th>22</th>\n",
              "      <td>197</td>\n",
              "      <td>2021-07-29</td>\n",
              "      <td>22.36</td>\n",
              "    </tr>\n",
              "    <tr>\n",
              "      <th>23</th>\n",
              "      <td>198</td>\n",
              "      <td>2021-07-30</td>\n",
              "      <td>22.57</td>\n",
              "    </tr>\n",
              "    <tr>\n",
              "      <th>24</th>\n",
              "      <td>199</td>\n",
              "      <td>2021-07-31</td>\n",
              "      <td>22.68</td>\n",
              "    </tr>\n",
              "    <tr>\n",
              "      <th>25</th>\n",
              "      <td>200</td>\n",
              "      <td>2021-08-01</td>\n",
              "      <td>22.90</td>\n",
              "    </tr>\n",
              "    <tr>\n",
              "      <th>26</th>\n",
              "      <td>202</td>\n",
              "      <td>2021-08-03</td>\n",
              "      <td>23.10</td>\n",
              "    </tr>\n",
              "    <tr>\n",
              "      <th>27</th>\n",
              "      <td>203</td>\n",
              "      <td>2021-08-04</td>\n",
              "      <td>23.29</td>\n",
              "    </tr>\n",
              "    <tr>\n",
              "      <th>28</th>\n",
              "      <td>204</td>\n",
              "      <td>2021-08-05</td>\n",
              "      <td>23.46</td>\n",
              "    </tr>\n",
              "    <tr>\n",
              "      <th>29</th>\n",
              "      <td>205</td>\n",
              "      <td>2021-08-06</td>\n",
              "      <td>23.79</td>\n",
              "    </tr>\n",
              "    <tr>\n",
              "      <th>30</th>\n",
              "      <td>206</td>\n",
              "      <td>2021-08-07</td>\n",
              "      <td>23.99</td>\n",
              "    </tr>\n",
              "    <tr>\n",
              "      <th>31</th>\n",
              "      <td>207</td>\n",
              "      <td>2021-08-08</td>\n",
              "      <td>24.25</td>\n",
              "    </tr>\n",
              "    <tr>\n",
              "      <th>32</th>\n",
              "      <td>211</td>\n",
              "      <td>2021-08-12</td>\n",
              "      <td>25.08</td>\n",
              "    </tr>\n",
              "  </tbody>\n",
              "</table>\n",
              "</div>"
            ],
            "text/plain": [
              "    days after January 13th 2021        date      %\n",
              "0                             56  2021-03-10   2.00\n",
              "1                             57  2021-03-11   2.02\n",
              "2                             77  2021-03-31   4.00\n",
              "3                            107  2021-04-30   6.00\n",
              "4                            137  2021-05-30   8.00\n",
              "5                            152  2021-06-14  10.00\n",
              "6                            161  2021-06-23  12.00\n",
              "7                            167  2021-06-29  14.00\n",
              "8                            169  2021-07-01  16.00\n",
              "9                            180  2021-07-12  18.60\n",
              "10                           183  2021-07-15  19.03\n",
              "11                           184  2021-07-16  19.64\n",
              "12                           185  2021-07-17  19.82\n",
              "13                           186  2021-07-18  20.06\n",
              "14                           187  2021-07-19  20.32\n",
              "15                           189  2021-07-21  20.58\n",
              "16                           190  2021-07-22  20.72\n",
              "17                           192  2021-07-24  21.29\n",
              "18                           193  2021-07-25  21.39\n",
              "19                           194  2021-07-26  21.61\n",
              "20                           195  2021-07-27  21.86\n",
              "21                           196  2021-07-28  22.11\n",
              "22                           197  2021-07-29  22.36\n",
              "23                           198  2021-07-30  22.57\n",
              "24                           199  2021-07-31  22.68\n",
              "25                           200  2021-08-01  22.90\n",
              "26                           202  2021-08-03  23.10\n",
              "27                           203  2021-08-04  23.29\n",
              "28                           204  2021-08-05  23.46\n",
              "29                           205  2021-08-06  23.79\n",
              "30                           206  2021-08-07  23.99\n",
              "31                           207  2021-08-08  24.25\n",
              "32                           211  2021-08-12  25.08"
            ]
          },
          "metadata": {},
          "execution_count": 2
        }
      ]
    },
    {
      "cell_type": "markdown",
      "metadata": {
        "id": "X6Siio4fAVp7"
      },
      "source": [
        "Just like Dose 1, in this Dose 2 cell we will add the date (as 'vac2' list) and the vaccination percentage for dose 2 at that time (as 'am_vac2' list).\n",
        "Here is the table that contains:\n",
        "1. days after January 13th 2021,\n",
        "2. date, and\n",
        "3. vaccination percentage (for dose 2) at that time."
      ]
    },
    {
      "cell_type": "code",
      "metadata": {
        "colab": {
          "base_uri": "https://localhost:8080/",
          "height": 1000
        },
        "id": "MGl4RZPB6kL6",
        "outputId": "7b7e6d62-94cc-454f-ff18-3c8dab7d9e1c"
      },
      "source": [
        "#DOSE 2\n",
        "\n",
        "import datetime as dt\n",
        "\n",
        "tr_vac3, tr_am_vac3 = [dt.date(2021, 4, 1), dt.date(2021, 5, 6), dt.date(2021, 6, 21), dt.date(2021, 7, 16), dt.date(2021, 7, 17),\n",
        "      dt.date(2021, 7, 18), dt.date(2021, 7, 19), dt.date(2021, 7, 21), dt.date(2021, 7, 22), dt.date(2021, 7, 24),\n",
        "      dt.date(2021, 7, 25), dt.date(2021, 7, 26), dt.date(2021, 7, 27), dt.date(2021, 7, 28), dt.date(2021, 7, 29),\n",
        "      dt.date(2021, 7, 30), dt.date(2021, 7, 31), dt.date(2021, 8, 1), dt.date(2021, 8, 3), dt.date(2021, 8, 4),\n",
        "      dt.date(2021, 8, 5), dt.date(2021, 8, 6), dt.date(2021, 8, 7), dt.date(2021, 8, 8), dt.date(2021, 8, 12), \n",
        "\n",
        "      ],[   2,    4,    6, 7.73, 7.79, \n",
        "           7.82,  7.9, 8.03, 8.11, 8.55, \n",
        "           8.61, 8.82, 9.05, 9.29, 9.54,\n",
        "           9.75, 9.86, 10.05, 10.29, 10.55, 10.70,\n",
        "         11.08, 11.30, 11.42, 12.31\n",
        "         ]\n",
        "\n",
        "er = []\n",
        "for i in range (0, len(vac1)):\n",
        "  er.append(datetime.timedelta(days=30) + vac1[i])\n",
        "\n",
        "vac2, am_vac2 = er, am_vac1\n",
        "\n",
        "from datetime import date\n",
        "d0 = date(2021, 1, 13) #13 Januari 2021\n",
        "hari2 = []\n",
        "for i in range(0,len(vac2)):\n",
        "  delto = vac2[i] - d0\n",
        "  hari2.append(delto.days)\n",
        "\n",
        "hari3 = []\n",
        "for i in range(0,len(tr_am_vac3)):\n",
        "  delto = tr_vac3[i] - d0\n",
        "  hari3.append(delto.days)\n",
        "\n",
        "pd.concat([pd.DataFrame(hari2), pd.DataFrame(vac2), pd.DataFrame(am_vac2)], axis=1).set_axis(['days after January 13th 2021','date', '%'], axis=1)"
      ],
      "execution_count": 3,
      "outputs": [
        {
          "output_type": "execute_result",
          "data": {
            "text/html": [
              "<div>\n",
              "<style scoped>\n",
              "    .dataframe tbody tr th:only-of-type {\n",
              "        vertical-align: middle;\n",
              "    }\n",
              "\n",
              "    .dataframe tbody tr th {\n",
              "        vertical-align: top;\n",
              "    }\n",
              "\n",
              "    .dataframe thead th {\n",
              "        text-align: right;\n",
              "    }\n",
              "</style>\n",
              "<table border=\"1\" class=\"dataframe\">\n",
              "  <thead>\n",
              "    <tr style=\"text-align: right;\">\n",
              "      <th></th>\n",
              "      <th>days after January 13th 2021</th>\n",
              "      <th>date</th>\n",
              "      <th>%</th>\n",
              "    </tr>\n",
              "  </thead>\n",
              "  <tbody>\n",
              "    <tr>\n",
              "      <th>0</th>\n",
              "      <td>86</td>\n",
              "      <td>2021-04-09</td>\n",
              "      <td>2.00</td>\n",
              "    </tr>\n",
              "    <tr>\n",
              "      <th>1</th>\n",
              "      <td>87</td>\n",
              "      <td>2021-04-10</td>\n",
              "      <td>2.02</td>\n",
              "    </tr>\n",
              "    <tr>\n",
              "      <th>2</th>\n",
              "      <td>107</td>\n",
              "      <td>2021-04-30</td>\n",
              "      <td>4.00</td>\n",
              "    </tr>\n",
              "    <tr>\n",
              "      <th>3</th>\n",
              "      <td>137</td>\n",
              "      <td>2021-05-30</td>\n",
              "      <td>6.00</td>\n",
              "    </tr>\n",
              "    <tr>\n",
              "      <th>4</th>\n",
              "      <td>167</td>\n",
              "      <td>2021-06-29</td>\n",
              "      <td>8.00</td>\n",
              "    </tr>\n",
              "    <tr>\n",
              "      <th>5</th>\n",
              "      <td>182</td>\n",
              "      <td>2021-07-14</td>\n",
              "      <td>10.00</td>\n",
              "    </tr>\n",
              "    <tr>\n",
              "      <th>6</th>\n",
              "      <td>191</td>\n",
              "      <td>2021-07-23</td>\n",
              "      <td>12.00</td>\n",
              "    </tr>\n",
              "    <tr>\n",
              "      <th>7</th>\n",
              "      <td>197</td>\n",
              "      <td>2021-07-29</td>\n",
              "      <td>14.00</td>\n",
              "    </tr>\n",
              "    <tr>\n",
              "      <th>8</th>\n",
              "      <td>199</td>\n",
              "      <td>2021-07-31</td>\n",
              "      <td>16.00</td>\n",
              "    </tr>\n",
              "    <tr>\n",
              "      <th>9</th>\n",
              "      <td>210</td>\n",
              "      <td>2021-08-11</td>\n",
              "      <td>18.60</td>\n",
              "    </tr>\n",
              "    <tr>\n",
              "      <th>10</th>\n",
              "      <td>213</td>\n",
              "      <td>2021-08-14</td>\n",
              "      <td>19.03</td>\n",
              "    </tr>\n",
              "    <tr>\n",
              "      <th>11</th>\n",
              "      <td>214</td>\n",
              "      <td>2021-08-15</td>\n",
              "      <td>19.64</td>\n",
              "    </tr>\n",
              "    <tr>\n",
              "      <th>12</th>\n",
              "      <td>215</td>\n",
              "      <td>2021-08-16</td>\n",
              "      <td>19.82</td>\n",
              "    </tr>\n",
              "    <tr>\n",
              "      <th>13</th>\n",
              "      <td>216</td>\n",
              "      <td>2021-08-17</td>\n",
              "      <td>20.06</td>\n",
              "    </tr>\n",
              "    <tr>\n",
              "      <th>14</th>\n",
              "      <td>217</td>\n",
              "      <td>2021-08-18</td>\n",
              "      <td>20.32</td>\n",
              "    </tr>\n",
              "    <tr>\n",
              "      <th>15</th>\n",
              "      <td>219</td>\n",
              "      <td>2021-08-20</td>\n",
              "      <td>20.58</td>\n",
              "    </tr>\n",
              "    <tr>\n",
              "      <th>16</th>\n",
              "      <td>220</td>\n",
              "      <td>2021-08-21</td>\n",
              "      <td>20.72</td>\n",
              "    </tr>\n",
              "    <tr>\n",
              "      <th>17</th>\n",
              "      <td>222</td>\n",
              "      <td>2021-08-23</td>\n",
              "      <td>21.29</td>\n",
              "    </tr>\n",
              "    <tr>\n",
              "      <th>18</th>\n",
              "      <td>223</td>\n",
              "      <td>2021-08-24</td>\n",
              "      <td>21.39</td>\n",
              "    </tr>\n",
              "    <tr>\n",
              "      <th>19</th>\n",
              "      <td>224</td>\n",
              "      <td>2021-08-25</td>\n",
              "      <td>21.61</td>\n",
              "    </tr>\n",
              "    <tr>\n",
              "      <th>20</th>\n",
              "      <td>225</td>\n",
              "      <td>2021-08-26</td>\n",
              "      <td>21.86</td>\n",
              "    </tr>\n",
              "    <tr>\n",
              "      <th>21</th>\n",
              "      <td>226</td>\n",
              "      <td>2021-08-27</td>\n",
              "      <td>22.11</td>\n",
              "    </tr>\n",
              "    <tr>\n",
              "      <th>22</th>\n",
              "      <td>227</td>\n",
              "      <td>2021-08-28</td>\n",
              "      <td>22.36</td>\n",
              "    </tr>\n",
              "    <tr>\n",
              "      <th>23</th>\n",
              "      <td>228</td>\n",
              "      <td>2021-08-29</td>\n",
              "      <td>22.57</td>\n",
              "    </tr>\n",
              "    <tr>\n",
              "      <th>24</th>\n",
              "      <td>229</td>\n",
              "      <td>2021-08-30</td>\n",
              "      <td>22.68</td>\n",
              "    </tr>\n",
              "    <tr>\n",
              "      <th>25</th>\n",
              "      <td>230</td>\n",
              "      <td>2021-08-31</td>\n",
              "      <td>22.90</td>\n",
              "    </tr>\n",
              "    <tr>\n",
              "      <th>26</th>\n",
              "      <td>232</td>\n",
              "      <td>2021-09-02</td>\n",
              "      <td>23.10</td>\n",
              "    </tr>\n",
              "    <tr>\n",
              "      <th>27</th>\n",
              "      <td>233</td>\n",
              "      <td>2021-09-03</td>\n",
              "      <td>23.29</td>\n",
              "    </tr>\n",
              "    <tr>\n",
              "      <th>28</th>\n",
              "      <td>234</td>\n",
              "      <td>2021-09-04</td>\n",
              "      <td>23.46</td>\n",
              "    </tr>\n",
              "    <tr>\n",
              "      <th>29</th>\n",
              "      <td>235</td>\n",
              "      <td>2021-09-05</td>\n",
              "      <td>23.79</td>\n",
              "    </tr>\n",
              "    <tr>\n",
              "      <th>30</th>\n",
              "      <td>236</td>\n",
              "      <td>2021-09-06</td>\n",
              "      <td>23.99</td>\n",
              "    </tr>\n",
              "    <tr>\n",
              "      <th>31</th>\n",
              "      <td>237</td>\n",
              "      <td>2021-09-07</td>\n",
              "      <td>24.25</td>\n",
              "    </tr>\n",
              "    <tr>\n",
              "      <th>32</th>\n",
              "      <td>241</td>\n",
              "      <td>2021-09-11</td>\n",
              "      <td>25.08</td>\n",
              "    </tr>\n",
              "  </tbody>\n",
              "</table>\n",
              "</div>"
            ],
            "text/plain": [
              "    days after January 13th 2021        date      %\n",
              "0                             86  2021-04-09   2.00\n",
              "1                             87  2021-04-10   2.02\n",
              "2                            107  2021-04-30   4.00\n",
              "3                            137  2021-05-30   6.00\n",
              "4                            167  2021-06-29   8.00\n",
              "5                            182  2021-07-14  10.00\n",
              "6                            191  2021-07-23  12.00\n",
              "7                            197  2021-07-29  14.00\n",
              "8                            199  2021-07-31  16.00\n",
              "9                            210  2021-08-11  18.60\n",
              "10                           213  2021-08-14  19.03\n",
              "11                           214  2021-08-15  19.64\n",
              "12                           215  2021-08-16  19.82\n",
              "13                           216  2021-08-17  20.06\n",
              "14                           217  2021-08-18  20.32\n",
              "15                           219  2021-08-20  20.58\n",
              "16                           220  2021-08-21  20.72\n",
              "17                           222  2021-08-23  21.29\n",
              "18                           223  2021-08-24  21.39\n",
              "19                           224  2021-08-25  21.61\n",
              "20                           225  2021-08-26  21.86\n",
              "21                           226  2021-08-27  22.11\n",
              "22                           227  2021-08-28  22.36\n",
              "23                           228  2021-08-29  22.57\n",
              "24                           229  2021-08-30  22.68\n",
              "25                           230  2021-08-31  22.90\n",
              "26                           232  2021-09-02  23.10\n",
              "27                           233  2021-09-03  23.29\n",
              "28                           234  2021-09-04  23.46\n",
              "29                           235  2021-09-05  23.79\n",
              "30                           236  2021-09-06  23.99\n",
              "31                           237  2021-09-07  24.25\n",
              "32                           241  2021-09-11  25.08"
            ]
          },
          "metadata": {},
          "execution_count": 3
        }
      ]
    },
    {
      "cell_type": "markdown",
      "metadata": {
        "id": "PMzohsVEotZQ"
      },
      "source": [
        "##TRAINING THE DATA##"
      ]
    },
    {
      "cell_type": "markdown",
      "metadata": {
        "id": "LP7sLNV2lunr"
      },
      "source": [
        "Based on the title of the project, we will use Linear Regression, Polynomial Regression to the power of 2, and Polynomial Regression to the power of 3.\n",
        "\n",
        "After we Convert the date data, we will train the data by using 3 types of regression. We set the number of day as independent variabels, and the the vaccination percentage as dependent variables."
      ]
    },
    {
      "cell_type": "code",
      "metadata": {
        "id": "QcFkgXY2qYsP"
      },
      "source": [
        "X = np.array(hari1).reshape(-1, 1)\n",
        "y = np.array(am_vac1)\n",
        "\n",
        "M = np.array(hari2).reshape(-1, 1)\n",
        "n = np.array(am_vac2)\n",
        "\n",
        "V = np.array(hari3).reshape(-1, 1)\n",
        "w = np.array(tr_am_vac3)"
      ],
      "execution_count": 4,
      "outputs": []
    },
    {
      "cell_type": "code",
      "metadata": {
        "colab": {
          "base_uri": "https://localhost:8080/"
        },
        "id": "lgBMXX_r3SWx",
        "outputId": "65899ef0-b244-4a4d-bbfc-9e4beb0295ba"
      },
      "source": [
        "from sklearn.linear_model import LinearRegression\n",
        "#For Dose 1\n",
        "lin_reg = LinearRegression()\n",
        "lin_reg.fit(X, y)\n",
        "\n",
        "#For Dose 2\n",
        "lin_regre = LinearRegression()\n",
        "lin_regre.fit(M, n)\n",
        "\n",
        "from sklearn.preprocessing import PolynomialFeatures\n",
        "poly_reg = PolynomialFeatures(degree = 2)\n",
        "\n",
        "#For Dose 1\n",
        "X_poly = poly_reg.fit_transform(X)\n",
        "lin_reg_2 = LinearRegression()\n",
        "lin_reg_2.fit(X_poly, y)\n",
        "\n",
        "poly_reg3 = PolynomialFeatures(degree = 3)\n",
        "X_poly3 = poly_reg3.fit_transform(X)\n",
        "lin_reg_3 = LinearRegression()\n",
        "lin_reg_3.fit(X_poly3, y)\n",
        "\n",
        "#For Dose 2\n",
        "X_polynom = poly_reg.fit_transform(M)\n",
        "lin_regre_2 = LinearRegression()\n",
        "lin_regre_2.fit(X_polynom, n)\n",
        "\n",
        "X_polynom3 = poly_reg3.fit_transform(M)\n",
        "lin_regre_3 = LinearRegression()\n",
        "lin_regre_3.fit(X_polynom3, n)"
      ],
      "execution_count": 5,
      "outputs": [
        {
          "output_type": "execute_result",
          "data": {
            "text/plain": [
              "LinearRegression(copy_X=True, fit_intercept=True, n_jobs=None, normalize=False)"
            ]
          },
          "metadata": {},
          "execution_count": 5
        }
      ]
    },
    {
      "cell_type": "markdown",
      "metadata": {
        "id": "xJTqfd2b0iQh"
      },
      "source": [
        "Before we continue, we have to understand the logic here. From the procedure, we know that someone can be vaccinated for second dose after 30 days since someone was vaccinated for first dose.\n",
        "\n",
        "So, we won't use the **kemenkes dashboard** for dose 2, we will use form of **day of dose 2 = day of dose 1 + 30 days** instead. But we're still using the kemenkes dahsboard data for dose 2 to evaluate the form **day of dose 2 = day of dose 1 + 30 days**."
      ]
    },
    {
      "cell_type": "code",
      "metadata": {
        "colab": {
          "base_uri": "https://localhost:8080/"
        },
        "id": "nUqfCrZiwJXn",
        "outputId": "5f90689f-a0bb-480b-c5a6-0e6a59543e3a"
      },
      "source": [
        "#Alternative\n",
        "\n",
        "#For Dose 2 Alternative\n",
        "Alt_lin_regre = LinearRegression()\n",
        "Alt_lin_regre.fit(V, w)\n",
        "\n",
        "Alt_X_polynom = poly_reg.fit_transform(V)\n",
        "Alt_lin_regre_2 = LinearRegression()\n",
        "Alt_lin_regre_2.fit(Alt_X_polynom, w)\n",
        "\n",
        "Alt_X_polynom3 = poly_reg3.fit_transform(V)\n",
        "Alt_lin_regre_3 = LinearRegression()\n",
        "Alt_lin_regre_3.fit(Alt_X_polynom3, w)"
      ],
      "execution_count": 6,
      "outputs": [
        {
          "output_type": "execute_result",
          "data": {
            "text/plain": [
              "LinearRegression(copy_X=True, fit_intercept=True, n_jobs=None, normalize=False)"
            ]
          },
          "metadata": {},
          "execution_count": 6
        }
      ]
    },
    {
      "cell_type": "markdown",
      "metadata": {
        "id": "s_3qYED0CHb7"
      },
      "source": [
        "##PREDICTION"
      ]
    },
    {
      "cell_type": "markdown",
      "metadata": {
        "id": "3iumZ11A3KdP"
      },
      "source": [
        "After the three of regressors have been train, we will see the prediction for each dose 1 and dose 2 in visual."
      ]
    },
    {
      "cell_type": "code",
      "metadata": {
        "colab": {
          "base_uri": "https://localhost:8080/",
          "height": 513
        },
        "id": "aY6dOFbOqCpO",
        "outputId": "d9760dd8-f67b-477d-90cc-3049ea07f95a"
      },
      "source": [
        "#Visual\n",
        "k = np.linspace(1,700,700)\n",
        "k = np.array(k).reshape(-1, 1)\n",
        "\n",
        "fig = plt.figure(figsize=(18,8))\n",
        "\n",
        "fig.add_subplot(1,2,1)\n",
        "plt.scatter(X, y, c = 'red', label = 'real data')\n",
        "plt.plot(k, lin_reg.predict(k), c = 'blue', label = 'linear regression')\n",
        "plt.plot(k, lin_reg_2.predict(poly_reg.fit_transform(k)), c='green', label = 'polynomial regression to the power of 2')\n",
        "plt.plot(k, lin_reg_3.predict(poly_reg3.fit_transform(k)), c='purple', label = 'polynomial regression to the power of 3')\n",
        "plt.title('Prediction of Reaching the Target of The First Dose of COVID-19 Vaccination')\n",
        "plt.ylabel('% of the total target = 208,206,720')\n",
        "plt.xlabel('days after January 13th, 2021')\n",
        "plt.legend()\n",
        "plt.grid()\n",
        "\n",
        "fig.add_subplot(1,2,2)\n",
        "plt.scatter(M, n, c = 'red', label = '30 days-real data')\n",
        "plt.scatter(V, w, c = 'orange', label = 'kemenkes dashboard-real data')\n",
        "plt.plot(k, lin_regre.predict(k), c = 'blue', label = 'linear regression')\n",
        "plt.plot(k, lin_regre_2.predict(poly_reg.fit_transform(k)), c='green', label = 'polynomial regression to the power of 2')\n",
        "plt.plot(k, lin_regre_3.predict(poly_reg3.fit_transform(k)), c='purple', label = 'polynomial regression to the power of 3')\n",
        "\n",
        "plt.title('Prediction of Reaching The Target of The Second Dose of COVID-19 Vaccination')\n",
        "plt.ylabel('% of the total target = 208,206,720')\n",
        "plt.xlabel('days after January 13th, 2021')\n",
        "plt.legend()\n",
        "plt.grid()"
      ],
      "execution_count": 7,
      "outputs": [
        {
          "output_type": "display_data",
          "data": {
            "image/png": "[encoded data removed]",
            "text/plain": [
              "<Figure size 1296x576 with 2 Axes>"
            ]
          },
          "metadata": {
            "needs_background": "light"
          }
        }
      ]
    },
    {
      "cell_type": "markdown",
      "metadata": {
        "id": "Fnbtp1MBXW8U"
      },
      "source": [
        "Visually, we can see that purple line (Polynomial Regression to the power of 3 model, with the purple curve) makes no sense with this case. We will find out some parameters that will help us to decide which model will be recommended."
      ]
    },
    {
      "cell_type": "markdown",
      "metadata": {
        "id": "D8LgVI0t4h45"
      },
      "source": [
        "##**EVALUATE THE REGRESSORS**\n",
        "\n",
        "After we get the kemenkes dashboard data, we will evaluate the regressors (linear regressor, polynomial regressor to the power of 2, and polynomial regressor to the power 3) by compare the prediction data and the kemenkes dashboard data. Closer r-square score of a regressor to one (1), will be more recommended the regressor will be used."
      ]
    },
    {
      "cell_type": "markdown",
      "metadata": {
        "id": "LG_yNIqzPNO0"
      },
      "source": [
        "###Evaluate Each Regressor"
      ]
    },
    {
      "cell_type": "code",
      "metadata": {
        "colab": {
          "base_uri": "https://localhost:8080/"
        },
        "id": "4S3UFj94MJjo",
        "outputId": "d532eeb6-f253-4f10-a434-4b0e2b4731f0"
      },
      "source": [
        "#r2_score\n",
        "raw_reg1_1 = []\n",
        "raw_reg1_2 = []\n",
        "raw_reg1_3 = []\n",
        "\n",
        "hari1_new = np.array(hari1).reshape(-1,1)\n",
        "for i in range(0,len(hari1_new)): \n",
        "  raw_reg1_1.append(lin_reg.predict(hari1_new[[i]]))\n",
        "  raw_reg1_2.append(lin_reg_2.predict(poly_reg.fit_transform(hari1_new[[i]])))\n",
        "  raw_reg1_3.append(lin_reg_3.predict(poly_reg3.fit_transform(hari1_new[[i]])))\n",
        "\n",
        "raw_reg2_1 = []\n",
        "raw_reg2_2 = []\n",
        "raw_reg2_3 = []\n",
        " \n",
        "hari2_new = np.array(hari2).reshape(-1,1)\n",
        "for i in range(0,len(hari2_new)):\n",
        "  raw_reg2_1.append(lin_regre.predict(hari2_new[[i]]))\n",
        "  raw_reg2_2.append(lin_regre_2.predict(poly_reg.fit_transform(hari2_new[[i]])))\n",
        "  raw_reg2_3.append(lin_regre_3.predict(poly_reg3.fit_transform(hari2_new[[i]]))) \n",
        "\n",
        "raw_reg3_1 = []\n",
        "raw_reg3_2 = []\n",
        "raw_reg3_3 = []\n",
        " \n",
        "hari3_new = np.array(hari3).reshape(-1,1)\n",
        "for i in range(0,len(hari3_new)):\n",
        "  raw_reg3_1.append(Alt_lin_regre.predict(hari3_new[[i]]))\n",
        "  raw_reg3_2.append(Alt_lin_regre_2.predict(poly_reg.fit_transform(hari3_new[[i]])))\n",
        "  raw_reg3_3.append(Alt_lin_regre_3.predict(poly_reg3.fit_transform(hari3_new[[i]]))) \n",
        "\n",
        "\n",
        "from sklearn.metrics import r2_score\n",
        "print('for First Dose Vaccine,', '\\n',\n",
        "      'r2 score for linear regression =', r2_score(raw_reg1_1, am_vac1),'\\n',\n",
        "      'r2 score for polynomial regression to the power of 2 =', r2_score(raw_reg1_2, am_vac1), '\\n',\n",
        "      'r2 score for polynomial regression to the power of 3 =', r2_score(raw_reg1_3, am_vac1))\n",
        "\n",
        "print('for Second Dose Vaccine,', '\\n',\n",
        "      'r2 score for linear regression =', r2_score(raw_reg2_1, am_vac2),'\\n',\n",
        "      'r2 score for polynomial regression to the power of 2 =', r2_score(raw_reg2_2, am_vac2), '\\n',\n",
        "      'r2 score for polynomial regression to the power of 3 =', r2_score(raw_reg2_3, am_vac2))\n",
        "\n",
        "print('for Second Dose Vaccine Dashboard Real-Data,', '\\n',\n",
        "      'r2 score for linear regression =', r2_score(raw_reg3_1, tr_am_vac3),'\\n',\n",
        "      'r2 score for polynomial regression to the power of 2 =', r2_score(raw_reg3_2, tr_am_vac3), '\\n',\n",
        "      'r2 score for polynomial regression to the power of 3 =', r2_score(raw_reg3_3, tr_am_vac3))"
      ],
      "execution_count": 8,
      "outputs": [
        {
          "output_type": "stream",
          "name": "stdout",
          "text": [
            "for First Dose Vaccine, \n",
            " r2 score for linear regression = 0.9361218327231443 \n",
            " r2 score for polynomial regression to the power of 2 = 0.9877336759143636 \n",
            " r2 score for polynomial regression to the power of 3 = 0.9882648905016835\n",
            "for Second Dose Vaccine, \n",
            " r2 score for linear regression = 0.9361218327231444 \n",
            " r2 score for polynomial regression to the power of 2 = 0.9877336759143629 \n",
            " r2 score for polynomial regression to the power of 3 = 0.9882648905027774\n",
            "for Second Dose Vaccine Dashboard Real-Data, \n",
            " r2 score for linear regression = 0.8565524408449388 \n",
            " r2 score for polynomial regression to the power of 2 = 0.9600140876228644 \n",
            " r2 score for polynomial regression to the power of 3 = 0.9958892353231694\n"
          ]
        }
      ]
    },
    {
      "cell_type": "code",
      "metadata": {
        "id": "b5qJgbJ1prwo"
      },
      "source": [
        "#The Predictions from each Regression Model\n",
        "reg1_1 = []\n",
        "reg1_2 = []\n",
        "reg1_3 = []\n",
        "\n",
        "import datetime \n",
        "for i in range(0,len(k)): \n",
        "  reg1_1.append(lin_reg.predict(k[[i]]))\n",
        "  reg1_2.append(lin_reg_2.predict(poly_reg.fit_transform(k[[i]])))\n",
        "  reg1_3.append(lin_reg_3.predict(poly_reg3.fit_transform(k[[i]])))\n",
        "\n",
        "reg2_1 = []\n",
        "reg2_2 = []\n",
        "reg2_3 = []\n",
        "\n",
        "import datetime \n",
        "for i in range(0,len(k)):\n",
        "  reg2_1.append(lin_regre.predict(k[[i]]))\n",
        "  reg2_2.append(lin_regre_2.predict(poly_reg.fit_transform(k[[i]])))\n",
        "  reg2_3.append(lin_regre_3.predict(poly_reg3.fit_transform(k[[i]]))) \n",
        "\n",
        "#Dashboard Real-Data\n",
        "reg3_1 = []\n",
        "reg3_2 = []\n",
        "reg3_3 = []\n",
        "\n",
        "import datetime \n",
        "for i in range(0,len(k)):\n",
        "  reg3_1.append(Alt_lin_regre.predict(k[[i]]))\n",
        "  reg3_2.append(Alt_lin_regre_2.predict(poly_reg.fit_transform(k[[i]])))\n",
        "  reg3_3.append(Alt_lin_regre_3.predict(poly_reg3.fit_transform(k[[i]]))) "
      ],
      "execution_count": 9,
      "outputs": []
    },
    {
      "cell_type": "markdown",
      "metadata": {
        "id": "u4zOu3bSPYoK"
      },
      "source": [
        "###Choosing Which Regression Model That Will Be Used"
      ]
    },
    {
      "cell_type": "code",
      "metadata": {
        "colab": {
          "base_uri": "https://localhost:8080/"
        },
        "id": "i8AvBN6BkA2H",
        "outputId": "cdaf32d8-98af-49ac-bf05-a107fc50e664"
      },
      "source": [
        "#Choose the regreesion model based on the best r2_score and the moving trend\n",
        "\n",
        "p1 = lin_reg.predict(k)\n",
        "p2 = lin_reg_2.predict(poly_reg.fit_transform(k))\n",
        "p3 = lin_reg_3.predict(poly_reg3.fit_transform(k))\n",
        "\n",
        "q1 = lin_regre.predict(k)\n",
        "q2 = lin_regre_2.predict(poly_reg.fit_transform(k))\n",
        "q3 = lin_regre_3.predict(poly_reg3.fit_transform(k))\n",
        "\n",
        "o1 = Alt_lin_regre.predict(k)\n",
        "o2 = Alt_lin_regre_2.predict(poly_reg.fit_transform(k))\n",
        "o3 = Alt_lin_regre_3.predict(poly_reg3.fit_transform(k)) \n",
        "\n",
        "#dose 1\n",
        "if p1[0] < p1[len(p1) - 1]:\n",
        "  if r2_score(raw_reg1_1,am_vac1) > r2_score(raw_reg1_2,am_vac1):\n",
        "    if r2_score(raw_reg1_1,am_vac1) > r2_score(raw_reg1_3,am_vac1):\n",
        "      reg_best1 = reg1_1\n",
        "      print('We will use the \\'linear regression model\\' for the data of first dose')\n",
        "    else:\n",
        "      if p3[0] < p3[len(p3) - 1]:\n",
        "        reg_best1 = reg1_3\n",
        "        print('We will use \\'polynomial regression to the power of 3\\' for the data of first dose')\n",
        "      else:\n",
        "        reg_best1 = reg1_1\n",
        "        print('We will use the \\'linear regression model\\' for the data of first dose')\n",
        "  else:\n",
        "    if p2[0] < p2[len(p2) - 1]:\n",
        "      if r2_score(raw_reg1_2,am_vac1) > r2_score(raw_reg1_3,am_vac1):\n",
        "        reg_best1 = reg1_2\n",
        "        print('We will use \\'polynomial regression to the power of 2\\' for the data of first dose')\n",
        "      else:\n",
        "        if p3[0] < p3[len(p3) - 1]:\n",
        "          reg_best1 = reg1_3\n",
        "          print('We will use \\'polynomial regression to the power of 3\\' for the data of first dose')\n",
        "        else:\n",
        "          reg_best1 = reg1_2\n",
        "          print('We will use \\'polynomial regression to the power of 2\\' for the data of first dose')\n",
        "\n",
        "#dose 2\n",
        "if q1[0] < q1[len(q1) - 1]:\n",
        "  if r2_score(raw_reg2_1,am_vac2) > r2_score(raw_reg2_2,am_vac2):\n",
        "    if r2_score(raw_reg2_1,am_vac2) > r2_score(raw_reg2_3,am_vac2):\n",
        "      reg_best2 = reg2_1\n",
        "      print('We will use the \\'linear regression model\\' for the data of second dose')\n",
        "    else:\n",
        "      if q3[0] < q3[len(q3) - 1]:\n",
        "        reg_best2 = reg2_3\n",
        "        print('We will use \\'polynomial regression to the power of 3\\' for the data of second dose')\n",
        "      else:\n",
        "        reg_best2 = reg2_1\n",
        "        print('We will use the \\'linear regression model\\' for the data of second dose')\n",
        "  else:\n",
        "    if q2[0] < q2[len(q2) - 1]:\n",
        "      if r2_score(raw_reg2_2,am_vac2) > r2_score(raw_reg2_3,am_vac2):\n",
        "        reg_best2 = reg2_2\n",
        "        print('We will use \\'polynomial regression to the power of 2\\' for the data of second dose')\n",
        "      else:\n",
        "        if q3[0] < q3[len(q3) - 1]:\n",
        "          reg_best2 = reg2_3\n",
        "          print('We will use \\'polynomial regression to the power of 3\\' for the data of second dose')\n",
        "        else:\n",
        "          reg_best2 = reg2_2\n",
        "          print('We will use \\'polynomial regression to the power of 2\\' for the data of second dose')\n",
        "\n",
        "#alternative of dose 2\n",
        "if o1[0] < o1[len(o1) - 1]:\n",
        "  if r2_score(raw_reg3_1,tr_am_vac3) > r2_score(raw_reg3_2,tr_am_vac3):\n",
        "    if r2_score(raw_reg3_1,tr_am_vac3) > r2_score(raw_reg3_3,tr_am_vac3):\n",
        "      reg_best3 = reg3_1\n",
        "    else:\n",
        "      if o3[0] < o3[len(o3) - 1]:\n",
        "        reg_best3 = reg3_3\n",
        "      else:\n",
        "        reg_best3 = reg3_1\n",
        "        \n",
        "  else:\n",
        "    if o2[0] < o2[len(o2) - 1]:\n",
        "      if r2_score(raw_reg3_2,tr_am_vac3) > r2_score(raw_reg3_3,tr_am_vac3):\n",
        "        reg_best3 = reg3_2\n",
        "      else:\n",
        "        if o3[0] < o3[len(o3) - 1]:\n",
        "          reg_best3 = reg3_3\n",
        "        else:\n",
        "          reg_best3 = reg3_2"
      ],
      "execution_count": 10,
      "outputs": [
        {
          "output_type": "stream",
          "name": "stdout",
          "text": [
            "We will use 'polynomial regression to the power of 2' for the data of first dose\n",
            "We will use 'polynomial regression to the power of 2' for the data of second dose\n"
          ]
        }
      ]
    },
    {
      "cell_type": "markdown",
      "metadata": {
        "id": "bmJ79p_UGq2Q"
      },
      "source": [
        "##Prediction for all k"
      ]
    },
    {
      "cell_type": "markdown",
      "metadata": {
        "id": "ExlYbfGiG5iZ"
      },
      "source": [
        "Since we have set the number of the 'k', in this case we set k-days after January 13th 2021 will be predicted, so here are the tables for dose1 and dose 2. Then we will select the days from 'k' that produce the number of % that close to 100%."
      ]
    },
    {
      "cell_type": "code",
      "metadata": {
        "id": "51u-tRDRVwIB",
        "colab": {
          "base_uri": "https://localhost:8080/",
          "height": 414
        },
        "outputId": "ec2c2c9a-f42e-4912-eb46-601e1fa8f8f4"
      },
      "source": [
        "#DOSE 1\n",
        "import datetime \n",
        "gh = []\n",
        "datev1 = []\n",
        "for i in range(0, len(k)):\n",
        "  gh.append(datetime.timedelta(days = i))\n",
        "  datev1.append(datetime.date(2021, 1, 13) + gh[i])\n",
        "\n",
        "table2 = pd.concat([pd.DataFrame(k), pd.DataFrame(datev1), pd.DataFrame(reg_best1)], axis=1).set_axis(['days after January 13th 2021','date','%'], axis=1)  \n",
        "table2"
      ],
      "execution_count": 11,
      "outputs": [
        {
          "output_type": "execute_result",
          "data": {
            "text/html": [
              "<div>\n",
              "<style scoped>\n",
              "    .dataframe tbody tr th:only-of-type {\n",
              "        vertical-align: middle;\n",
              "    }\n",
              "\n",
              "    .dataframe tbody tr th {\n",
              "        vertical-align: top;\n",
              "    }\n",
              "\n",
              "    .dataframe thead th {\n",
              "        text-align: right;\n",
              "    }\n",
              "</style>\n",
              "<table border=\"1\" class=\"dataframe\">\n",
              "  <thead>\n",
              "    <tr style=\"text-align: right;\">\n",
              "      <th></th>\n",
              "      <th>days after January 13th 2021</th>\n",
              "      <th>date</th>\n",
              "      <th>%</th>\n",
              "    </tr>\n",
              "  </thead>\n",
              "  <tbody>\n",
              "    <tr>\n",
              "      <th>0</th>\n",
              "      <td>1.0</td>\n",
              "      <td>2021-01-13</td>\n",
              "      <td>4.322889</td>\n",
              "    </tr>\n",
              "    <tr>\n",
              "      <th>1</th>\n",
              "      <td>2.0</td>\n",
              "      <td>2021-01-14</td>\n",
              "      <td>4.236716</td>\n",
              "    </tr>\n",
              "    <tr>\n",
              "      <th>2</th>\n",
              "      <td>3.0</td>\n",
              "      <td>2021-01-15</td>\n",
              "      <td>4.152358</td>\n",
              "    </tr>\n",
              "    <tr>\n",
              "      <th>3</th>\n",
              "      <td>4.0</td>\n",
              "      <td>2021-01-16</td>\n",
              "      <td>4.069814</td>\n",
              "    </tr>\n",
              "    <tr>\n",
              "      <th>4</th>\n",
              "      <td>5.0</td>\n",
              "      <td>2021-01-17</td>\n",
              "      <td>3.989084</td>\n",
              "    </tr>\n",
              "    <tr>\n",
              "      <th>...</th>\n",
              "      <td>...</td>\n",
              "      <td>...</td>\n",
              "      <td>...</td>\n",
              "    </tr>\n",
              "    <tr>\n",
              "      <th>695</th>\n",
              "      <td>696.0</td>\n",
              "      <td>2022-12-09</td>\n",
              "      <td>381.985781</td>\n",
              "    </tr>\n",
              "    <tr>\n",
              "      <th>696</th>\n",
              "      <td>697.0</td>\n",
              "      <td>2022-12-10</td>\n",
              "      <td>383.160568</td>\n",
              "    </tr>\n",
              "    <tr>\n",
              "      <th>697</th>\n",
              "      <td>698.0</td>\n",
              "      <td>2022-12-11</td>\n",
              "      <td>384.337169</td>\n",
              "    </tr>\n",
              "    <tr>\n",
              "      <th>698</th>\n",
              "      <td>699.0</td>\n",
              "      <td>2022-12-12</td>\n",
              "      <td>385.515584</td>\n",
              "    </tr>\n",
              "    <tr>\n",
              "      <th>699</th>\n",
              "      <td>700.0</td>\n",
              "      <td>2022-12-13</td>\n",
              "      <td>386.695814</td>\n",
              "    </tr>\n",
              "  </tbody>\n",
              "</table>\n",
              "<p>700 rows × 3 columns</p>\n",
              "</div>"
            ],
            "text/plain": [
              "     days after January 13th 2021        date           %\n",
              "0                             1.0  2021-01-13    4.322889\n",
              "1                             2.0  2021-01-14    4.236716\n",
              "2                             3.0  2021-01-15    4.152358\n",
              "3                             4.0  2021-01-16    4.069814\n",
              "4                             5.0  2021-01-17    3.989084\n",
              "..                            ...         ...         ...\n",
              "695                         696.0  2022-12-09  381.985781\n",
              "696                         697.0  2022-12-10  383.160568\n",
              "697                         698.0  2022-12-11  384.337169\n",
              "698                         699.0  2022-12-12  385.515584\n",
              "699                         700.0  2022-12-13  386.695814\n",
              "\n",
              "[700 rows x 3 columns]"
            ]
          },
          "metadata": {},
          "execution_count": 11
        }
      ]
    },
    {
      "cell_type": "code",
      "metadata": {
        "id": "_iePZDx7FyLm",
        "colab": {
          "base_uri": "https://localhost:8080/",
          "height": 414
        },
        "outputId": "d41325e7-e282-4bb7-fee1-7158af856ca9"
      },
      "source": [
        "#DOSE 2\n",
        "import datetime \n",
        "ger = []\n",
        "datev2 = []\n",
        "for i in range(0, len(k)):\n",
        "  ger.append(datetime.timedelta(days = i))\n",
        "  datev2.append(datetime.date(2021, 1, 13) + ger[i])\n",
        "\n",
        "table3 = pd.concat([pd.DataFrame(k), pd.DataFrame(datev2), pd.DataFrame(reg_best2)], axis=1).set_axis(['days after Jan 13th 2021','date','%'], axis=1)  \n",
        "table3"
      ],
      "execution_count": 12,
      "outputs": [
        {
          "output_type": "execute_result",
          "data": {
            "text/html": [
              "<div>\n",
              "<style scoped>\n",
              "    .dataframe tbody tr th:only-of-type {\n",
              "        vertical-align: middle;\n",
              "    }\n",
              "\n",
              "    .dataframe tbody tr th {\n",
              "        vertical-align: top;\n",
              "    }\n",
              "\n",
              "    .dataframe thead th {\n",
              "        text-align: right;\n",
              "    }\n",
              "</style>\n",
              "<table border=\"1\" class=\"dataframe\">\n",
              "  <thead>\n",
              "    <tr style=\"text-align: right;\">\n",
              "      <th></th>\n",
              "      <th>days after Jan 13th 2021</th>\n",
              "      <th>date</th>\n",
              "      <th>%</th>\n",
              "    </tr>\n",
              "  </thead>\n",
              "  <tbody>\n",
              "    <tr>\n",
              "      <th>0</th>\n",
              "      <td>1.0</td>\n",
              "      <td>2021-01-13</td>\n",
              "      <td>7.751739</td>\n",
              "    </tr>\n",
              "    <tr>\n",
              "      <th>1</th>\n",
              "      <td>2.0</td>\n",
              "      <td>2021-01-14</td>\n",
              "      <td>7.611136</td>\n",
              "    </tr>\n",
              "    <tr>\n",
              "      <th>2</th>\n",
              "      <td>3.0</td>\n",
              "      <td>2021-01-15</td>\n",
              "      <td>7.472348</td>\n",
              "    </tr>\n",
              "    <tr>\n",
              "      <th>3</th>\n",
              "      <td>4.0</td>\n",
              "      <td>2021-01-16</td>\n",
              "      <td>7.335374</td>\n",
              "    </tr>\n",
              "    <tr>\n",
              "      <th>4</th>\n",
              "      <td>5.0</td>\n",
              "      <td>2021-01-17</td>\n",
              "      <td>7.200214</td>\n",
              "    </tr>\n",
              "    <tr>\n",
              "      <th>...</th>\n",
              "      <td>...</td>\n",
              "      <td>...</td>\n",
              "      <td>...</td>\n",
              "    </tr>\n",
              "    <tr>\n",
              "      <th>695</th>\n",
              "      <td>696.0</td>\n",
              "      <td>2022-12-09</td>\n",
              "      <td>347.585838</td>\n",
              "    </tr>\n",
              "    <tr>\n",
              "      <th>696</th>\n",
              "      <td>697.0</td>\n",
              "      <td>2022-12-10</td>\n",
              "      <td>348.706195</td>\n",
              "    </tr>\n",
              "    <tr>\n",
              "      <th>697</th>\n",
              "      <td>698.0</td>\n",
              "      <td>2022-12-11</td>\n",
              "      <td>349.828366</td>\n",
              "    </tr>\n",
              "    <tr>\n",
              "      <th>698</th>\n",
              "      <td>699.0</td>\n",
              "      <td>2022-12-12</td>\n",
              "      <td>350.952352</td>\n",
              "    </tr>\n",
              "    <tr>\n",
              "      <th>699</th>\n",
              "      <td>700.0</td>\n",
              "      <td>2022-12-13</td>\n",
              "      <td>352.078152</td>\n",
              "    </tr>\n",
              "  </tbody>\n",
              "</table>\n",
              "<p>700 rows × 3 columns</p>\n",
              "</div>"
            ],
            "text/plain": [
              "     days after Jan 13th 2021        date           %\n",
              "0                         1.0  2021-01-13    7.751739\n",
              "1                         2.0  2021-01-14    7.611136\n",
              "2                         3.0  2021-01-15    7.472348\n",
              "3                         4.0  2021-01-16    7.335374\n",
              "4                         5.0  2021-01-17    7.200214\n",
              "..                        ...         ...         ...\n",
              "695                     696.0  2022-12-09  347.585838\n",
              "696                     697.0  2022-12-10  348.706195\n",
              "697                     698.0  2022-12-11  349.828366\n",
              "698                     699.0  2022-12-12  350.952352\n",
              "699                     700.0  2022-12-13  352.078152\n",
              "\n",
              "[700 rows x 3 columns]"
            ]
          },
          "metadata": {},
          "execution_count": 12
        }
      ]
    },
    {
      "cell_type": "markdown",
      "metadata": {
        "id": "M-ffSFhy2Szm"
      },
      "source": [
        "##The 'Target' Day##"
      ]
    },
    {
      "cell_type": "markdown",
      "metadata": {
        "id": "i9Ib2dK-wRsr"
      },
      "source": [
        "###Dose 1"
      ]
    },
    {
      "cell_type": "markdown",
      "metadata": {
        "id": "IWKgmIG8HKqA"
      },
      "source": [
        "In order to form it as interval, so we need to find out margin of error for each dose. We will find out standard deviaton, z-score, and we want to set the confidence level at 95% as well.\n"
      ]
    },
    {
      "cell_type": "code",
      "metadata": {
        "id": "PElvCuA74CAj",
        "colab": {
          "base_uri": "https://localhost:8080/"
        },
        "outputId": "9cbb585a-d769-4ec9-fb3c-c2d7a4df5d7f"
      },
      "source": [
        "#interval for Dose1\n",
        "sum_errs1 = []\n",
        "\n",
        "for i in range(0, len(y)):\n",
        "  sum_errs1.append((y[i] - reg_best1[i])**2) \n",
        "  \n",
        "sum_error1 = np.sum(sum_errs1)\n",
        "stdev1 = np.sqrt(sum_error1/(len(y) - 1))\n",
        "SE1 = stdev1/(np.sqrt(len(y)))\n",
        "\n",
        "pi = 0.95\n",
        "one_minus_pi = 1 - pi\n",
        "ppf_lookup = 1 - (one_minus_pi / 2)\n",
        "z_score1 = scipy.stats.norm.ppf(ppf_lookup)\n",
        "interval1 = z_score1*SE1\n",
        "print( 'margin of error of Dose 1 =',  round(interval1), 'days')"
      ],
      "execution_count": 13,
      "outputs": [
        {
          "output_type": "stream",
          "name": "stdout",
          "text": [
            "margin of error of Dose 1 = 6 days\n"
          ]
        }
      ]
    },
    {
      "cell_type": "code",
      "metadata": {
        "id": "8dEkyUzIS6bw",
        "colab": {
          "base_uri": "https://localhost:8080/",
          "height": 296
        },
        "outputId": "89e0e48c-78ab-4fd2-85f5-738cc1c8c87e"
      },
      "source": [
        "#Dose 1\n",
        "a = table2[table2['%'] > 98][table2['%'] < 102]\n",
        "a"
      ],
      "execution_count": 14,
      "outputs": [
        {
          "output_type": "stream",
          "name": "stderr",
          "text": [
            "/usr/local/lib/python3.7/dist-packages/ipykernel_launcher.py:2: UserWarning: Boolean Series key will be reindexed to match DataFrame index.\n",
            "  \n"
          ]
        },
        {
          "output_type": "execute_result",
          "data": {
            "text/html": [
              "<div>\n",
              "<style scoped>\n",
              "    .dataframe tbody tr th:only-of-type {\n",
              "        vertical-align: middle;\n",
              "    }\n",
              "\n",
              "    .dataframe tbody tr th {\n",
              "        vertical-align: top;\n",
              "    }\n",
              "\n",
              "    .dataframe thead th {\n",
              "        text-align: right;\n",
              "    }\n",
              "</style>\n",
              "<table border=\"1\" class=\"dataframe\">\n",
              "  <thead>\n",
              "    <tr style=\"text-align: right;\">\n",
              "      <th></th>\n",
              "      <th>days after January 13th 2021</th>\n",
              "      <th>date</th>\n",
              "      <th>%</th>\n",
              "    </tr>\n",
              "  </thead>\n",
              "  <tbody>\n",
              "    <tr>\n",
              "      <th>373</th>\n",
              "      <td>374.0</td>\n",
              "      <td>2022-01-21</td>\n",
              "      <td>98.055037</td>\n",
              "    </tr>\n",
              "    <tr>\n",
              "      <th>374</th>\n",
              "      <td>375.0</td>\n",
              "      <td>2022-01-22</td>\n",
              "      <td>98.645609</td>\n",
              "    </tr>\n",
              "    <tr>\n",
              "      <th>375</th>\n",
              "      <td>376.0</td>\n",
              "      <td>2022-01-23</td>\n",
              "      <td>99.237996</td>\n",
              "    </tr>\n",
              "    <tr>\n",
              "      <th>376</th>\n",
              "      <td>377.0</td>\n",
              "      <td>2022-01-24</td>\n",
              "      <td>99.832197</td>\n",
              "    </tr>\n",
              "    <tr>\n",
              "      <th>377</th>\n",
              "      <td>378.0</td>\n",
              "      <td>2022-01-25</td>\n",
              "      <td>100.428212</td>\n",
              "    </tr>\n",
              "    <tr>\n",
              "      <th>378</th>\n",
              "      <td>379.0</td>\n",
              "      <td>2022-01-26</td>\n",
              "      <td>101.026042</td>\n",
              "    </tr>\n",
              "    <tr>\n",
              "      <th>379</th>\n",
              "      <td>380.0</td>\n",
              "      <td>2022-01-27</td>\n",
              "      <td>101.625686</td>\n",
              "    </tr>\n",
              "  </tbody>\n",
              "</table>\n",
              "</div>"
            ],
            "text/plain": [
              "     days after January 13th 2021        date           %\n",
              "373                         374.0  2022-01-21   98.055037\n",
              "374                         375.0  2022-01-22   98.645609\n",
              "375                         376.0  2022-01-23   99.237996\n",
              "376                         377.0  2022-01-24   99.832197\n",
              "377                         378.0  2022-01-25  100.428212\n",
              "378                         379.0  2022-01-26  101.026042\n",
              "379                         380.0  2022-01-27  101.625686"
            ]
          },
          "metadata": {},
          "execution_count": 14
        }
      ]
    },
    {
      "cell_type": "code",
      "metadata": {
        "id": "HUf6cz_0Tn2s",
        "colab": {
          "base_uri": "https://localhost:8080/"
        },
        "outputId": "5c174224-3eb8-4a1a-f812-1217beb4b7ce"
      },
      "source": [
        "cd = np.array(a)\n",
        "ror = []\n",
        "\n",
        "gut = []\n",
        "for i in range(0, len(cd)):\n",
        "  gut.append(cd[i][0])\n",
        "\n",
        "for i in range(0, len(cd)):\n",
        "  ror.append(abs(cd[i][2] - 100))\n",
        "\n",
        "mbu = np.array(pd.concat([ pd.DataFrame(gut), pd.DataFrame(ror)], axis=1))\n",
        "qwe = 0\n",
        "\n",
        "for i in range(0, len(mbu)):\n",
        "  qwe = (mbu[i][1])\n",
        "  if qwe == min(ror):\n",
        "    j = i\n",
        "\n",
        "target_point1 = mbu[j][0]\n",
        "\n",
        "f_lower = date(2021, 1, 13) + datetime.timedelta(days = target_point1 - round(interval1))\n",
        "f_upper = date(2021, 1, 13) + datetime.timedelta(days = target_point1 + round(interval1))\n",
        "print('Target Point 1 =', date(2021, 1, 13) + datetime.timedelta(days = target_point1))\n",
        "print('Target of Dose 1 is within the interval from',f_lower, 'until',f_upper)"
      ],
      "execution_count": 15,
      "outputs": [
        {
          "output_type": "stream",
          "name": "stdout",
          "text": [
            "Target Point 1 = 2022-01-25\n",
            "Target of Dose 1 is within the interval from 2022-01-19 until 2022-01-31\n"
          ]
        }
      ]
    },
    {
      "cell_type": "markdown",
      "metadata": {
        "id": "1rflvuBLwMly"
      },
      "source": [
        "###DOSE 2"
      ]
    },
    {
      "cell_type": "code",
      "metadata": {
        "id": "g1un2Rtg4ady",
        "colab": {
          "base_uri": "https://localhost:8080/"
        },
        "outputId": "94b932e5-04b5-4ff4-c45a-83d0b297a3f7"
      },
      "source": [
        "#interval for Dose2\n",
        "sum_errs2 = []\n",
        "\n",
        "for i in range(0, len(w)):\n",
        "  sum_errs2.append((reg_best2[i] - reg_best3[i])**2) \n",
        "  \n",
        "sum_error2 = np.sum(sum_errs2)\n",
        "stdev2 = np.sqrt(sum_error2/(len(w) - 1))\n",
        "SE2 = stdev2/(np.sqrt(len(w)))\n",
        "\n",
        "pi = 0.95\n",
        "one_minus_pi = 1 - pi\n",
        "ppf_lookup = 1 - (one_minus_pi / 2)\n",
        "z_score2 = scipy.stats.norm.ppf(ppf_lookup)\n",
        "interval2 = z_score2*SE2\n",
        "print( 'margin of error of Dose 2 =',  round(interval2), 'days')"
      ],
      "execution_count": 16,
      "outputs": [
        {
          "output_type": "stream",
          "name": "stdout",
          "text": [
            "margin of error of Dose 2 = 9 days\n"
          ]
        }
      ]
    },
    {
      "cell_type": "code",
      "metadata": {
        "id": "N5LVarJUF-SY",
        "colab": {
          "base_uri": "https://localhost:8080/",
          "height": 296
        },
        "outputId": "0fb0f350-7946-4ff3-d94c-71b194cf47f2"
      },
      "source": [
        "#Dose 2\n",
        "c = table3[table3['%'] > 98][table3['%'] < 102]\n",
        "c"
      ],
      "execution_count": 17,
      "outputs": [
        {
          "output_type": "stream",
          "name": "stderr",
          "text": [
            "/usr/local/lib/python3.7/dist-packages/ipykernel_launcher.py:2: UserWarning: Boolean Series key will be reindexed to match DataFrame index.\n",
            "  \n"
          ]
        },
        {
          "output_type": "execute_result",
          "data": {
            "text/html": [
              "<div>\n",
              "<style scoped>\n",
              "    .dataframe tbody tr th:only-of-type {\n",
              "        vertical-align: middle;\n",
              "    }\n",
              "\n",
              "    .dataframe tbody tr th {\n",
              "        vertical-align: top;\n",
              "    }\n",
              "\n",
              "    .dataframe thead th {\n",
              "        text-align: right;\n",
              "    }\n",
              "</style>\n",
              "<table border=\"1\" class=\"dataframe\">\n",
              "  <thead>\n",
              "    <tr style=\"text-align: right;\">\n",
              "      <th></th>\n",
              "      <th>days after Jan 13th 2021</th>\n",
              "      <th>date</th>\n",
              "      <th>%</th>\n",
              "    </tr>\n",
              "  </thead>\n",
              "  <tbody>\n",
              "    <tr>\n",
              "      <th>403</th>\n",
              "      <td>404.0</td>\n",
              "      <td>2022-02-20</td>\n",
              "      <td>98.055037</td>\n",
              "    </tr>\n",
              "    <tr>\n",
              "      <th>404</th>\n",
              "      <td>405.0</td>\n",
              "      <td>2022-02-21</td>\n",
              "      <td>98.645609</td>\n",
              "    </tr>\n",
              "    <tr>\n",
              "      <th>405</th>\n",
              "      <td>406.0</td>\n",
              "      <td>2022-02-22</td>\n",
              "      <td>99.237996</td>\n",
              "    </tr>\n",
              "    <tr>\n",
              "      <th>406</th>\n",
              "      <td>407.0</td>\n",
              "      <td>2022-02-23</td>\n",
              "      <td>99.832197</td>\n",
              "    </tr>\n",
              "    <tr>\n",
              "      <th>407</th>\n",
              "      <td>408.0</td>\n",
              "      <td>2022-02-24</td>\n",
              "      <td>100.428212</td>\n",
              "    </tr>\n",
              "    <tr>\n",
              "      <th>408</th>\n",
              "      <td>409.0</td>\n",
              "      <td>2022-02-25</td>\n",
              "      <td>101.026042</td>\n",
              "    </tr>\n",
              "    <tr>\n",
              "      <th>409</th>\n",
              "      <td>410.0</td>\n",
              "      <td>2022-02-26</td>\n",
              "      <td>101.625686</td>\n",
              "    </tr>\n",
              "  </tbody>\n",
              "</table>\n",
              "</div>"
            ],
            "text/plain": [
              "     days after Jan 13th 2021        date           %\n",
              "403                     404.0  2022-02-20   98.055037\n",
              "404                     405.0  2022-02-21   98.645609\n",
              "405                     406.0  2022-02-22   99.237996\n",
              "406                     407.0  2022-02-23   99.832197\n",
              "407                     408.0  2022-02-24  100.428212\n",
              "408                     409.0  2022-02-25  101.026042\n",
              "409                     410.0  2022-02-26  101.625686"
            ]
          },
          "metadata": {},
          "execution_count": 17
        }
      ]
    },
    {
      "cell_type": "code",
      "metadata": {
        "id": "ebctQcgU3s4g",
        "colab": {
          "base_uri": "https://localhost:8080/"
        },
        "outputId": "e6c737f5-d5f5-4322-e1ad-6f0af3a9e11b"
      },
      "source": [
        "cm = np.array(c)\n",
        "rorm = []\n",
        "\n",
        "gutm = []\n",
        "for i in range(0, len(cm)):\n",
        "  gutm.append(cm[i][0])\n",
        "\n",
        "for i in range(0, len(cm)):\n",
        "  rorm.append(abs(cm[i][2] - 100))\n",
        "\n",
        "mbx = np.array(pd.concat([ pd.DataFrame(gutm), pd.DataFrame(rorm)], axis=1))\n",
        "qwo = 0\n",
        "\n",
        "for i in range(0, len(mbx)):\n",
        "  qwo = (mbx[i][1])\n",
        "  if qwo == min(rorm):\n",
        "    j = i\n",
        "\n",
        "target_point2 = mbx[j][0]\n",
        "\n",
        "g_lower = date(2021, 1, 13) + datetime.timedelta(days = target_point2 - round(interval2))\n",
        "g_upper = date(2021, 1, 13) + datetime.timedelta(days = target_point2 + round(interval2))\n",
        "print('Target Point 2 =', date(2021, 1, 13) + datetime.timedelta(days = target_point2))\n",
        "print('Target of Dose 2 within the interval from',g_lower, 'until' ,g_upper)"
      ],
      "execution_count": 18,
      "outputs": [
        {
          "output_type": "stream",
          "name": "stdout",
          "text": [
            "Target Point 2 = 2022-02-24\n",
            "Target of Dose 2 within the interval from 2022-02-15 until 2022-03-05\n"
          ]
        }
      ]
    },
    {
      "cell_type": "markdown",
      "metadata": {
        "id": "xJsQO1YxwZLL"
      },
      "source": [
        "###Conclusion"
      ]
    },
    {
      "cell_type": "markdown",
      "metadata": {
        "id": "wphs8ZP_8sQP"
      },
      "source": [
        "Finally, we get the interval target for Dose 1 and Dose 2 below. Soon, we will evaluate the results after the vaccination real-time data of Dose 1 reach 50%.Thank You."
      ]
    },
    {
      "cell_type": "code",
      "metadata": {
        "colab": {
          "base_uri": "https://localhost:8080/",
          "height": 632
        },
        "id": "Lc8LFIwUPBw6",
        "outputId": "e9300b07-df94-41d1-db59-d58ecc5e9683"
      },
      "source": [
        "#CONCLUSION\n",
        "print('Target of Dose 1 is within the interval from',f_lower, 'until',f_upper)\n",
        "print('Target of Dose 2 is within the interval from',g_lower, 'until' ,g_upper)\n",
        "\n",
        "hu = plt.figure(figsize=(25,10))\n",
        "\n",
        "range1 = np.linspace(target_point1 - round(interval1) , target_point1 + round(interval1) , 2*round(interval1) + 1)\n",
        "range2 = np.linspace(target_point2 - round(interval2) , target_point2 + round(interval2) , 2*round(interval2) + 1)\n",
        "\n",
        "hu.add_subplot(1,2,1)\n",
        "plt.scatter(X, y, c = 'red', label = 'real data')\n",
        "plt.plot(k, reg_best1, c = 'blue', label = 'prediction')\n",
        "plt.scatter(range1, [100]*len(range1), c = 'Green', label = 'range target of Dose 1')\n",
        "plt.title('Prediction of Reaching the Target of The First Dose of COVID-19 Vaccination')\n",
        "plt.ylabel('% of the total target = 208,206,720')\n",
        "plt.xlabel('days after January 13th, 2021')\n",
        "plt.legend()\n",
        "plt.grid()\n",
        "\n",
        "hu.add_subplot(1,2,2)\n",
        "plt.scatter(M, n, c = 'red', label = '30 days-real data')\n",
        "plt.scatter(V, w, c = 'orange', label = 'kemenkes dashboard-real data')\n",
        "plt.plot(k, reg_best2, c = 'blue', label = 'prediction')\n",
        "plt.scatter(range2, [100]*len(range2), c = 'Green', label = 'range target of Dose 2')\n",
        "plt.title('Prediction of Reaching the Target of The Second Dose of COVID-19 Vaccination')\n",
        "plt.ylabel('% of the total target = 208,206,720')\n",
        "plt.xlabel('days after January 13th, 2021')\n",
        "plt.legend()\n",
        "plt.grid()"
      ],
      "execution_count": 19,
      "outputs": [
        {
          "output_type": "stream",
          "name": "stdout",
          "text": [
            "Target of Dose 1 is within the interval from 2022-01-19 until 2022-01-31\n",
            "Target of Dose 2 is within the interval from 2022-02-15 until 2022-03-05\n"
          ]
        },
        {
          "output_type": "display_data",
          "data": {
            "image/png": "[encoded data removed]",
            "text/plain": [
              "<Figure size 1800x720 with 2 Axes>"
            ]
          },
          "metadata": {
            "needs_background": "light"
          }
        }
      ]
    },
    {
      "cell_type": "markdown",
      "metadata": {
        "id": "KkXj4n3j8qSq"
      },
      "source": [
        "Hopefully, in the end of the process, we will see the red scatter will reach the green scatter (as the prediction interval) in the graphs above. Thanks"
      ]
    }
  ]
}